{
 "cells": [
  {
   "cell_type": "markdown",
   "id": "3d57d457",
   "metadata": {},
   "source": [
    "\n",
    "# Práctica 1: Metaheurísticas basadas en trayectorias: Temple Simulado"
   ]
  },
  {
   "cell_type": "markdown",
   "id": "dc9d72a9",
   "metadata": {},
   "source": [
    "<center><h3>\n",
    "    Diego Barreiro Pérez\n",
    "</h3></center>\n"
   ]
  },
  {
   "cell_type": "markdown",
   "id": "8087aede",
   "metadata": {},
   "source": [
    "## Instrucciones"
   ]
  },
  {
   "cell_type": "markdown",
   "id": "a351019b",
   "metadata": {},
   "source": [
    "Esto es **Jupyter Notebook**, un documento que integra código Python en un archivo Markdown.\n",
    "Esto nos permite ir ejecutando celdas de código poco a poco, así como generar automáticamente un informe bien formateado de la práctica.\n",
    "\n",
    "Puedes añadir una celda con el botón **\"Insert\"** de la barra de herramentas, y cambiar su tipo con **\"Cell > Cell Type\"**\n",
    "\n",
    "Para ejecutar una celda de código, la seleccionaremos y pulsaremos el botón **\"▶ Run\"** de la barra de herramentas.\n",
    "Para pasar el documento a HTML, seleccionaremos **\"File > Download as > HTML (.html)\"**\n",
    "\n",
    "Sigue este guión hasta el final. Ejecuta el código proporcionado paso a paso comprendiendo lo que estás haciendo y reflexionando sobre los resultados. Habrá preguntas intercaladas a lo largo del guión, responde a todas ellas en la sección reservada para ese fin: **\"Respuestas a los cuestionarios\"**. Por favor, no modifiques ninguna linea de código excepto cuando se te pida explícitamente.\n",
    "\n",
    "No olvides insertar tu **nombre y apellidos** en la celda superior."
   ]
  },
  {
   "cell_type": "markdown",
   "id": "3c804f80",
   "metadata": {},
   "source": [
    "## Entrega de la práctica"
   ]
  },
  {
   "cell_type": "markdown",
   "id": "797d20ec",
   "metadata": {},
   "source": [
    "La fecha límite de entrega será la indicada en el Campus Virtual. La entrega consistirá de un único archivo comprimido con nombre `APELIDOS_NOME_TempleSimulado.zip` que contenga los seguientes ficheros:\n",
    "\n",
    " * `APELIDOS_NOME_TempleSimulado.html`: Archivo HTML fruto de la exportación del presente Notebook, con las preguntas respondidas al final del documento.\n",
    " * `APELIDOS_NOME_TempleSimulado.ipynb`: Archivo fuente Jupyter Notebook.\n",
    " * Archivo de datos de los problema utilizados en la resolución."
   ]
  },
  {
   "cell_type": "markdown",
   "id": "f7f872a1",
   "metadata": {},
   "source": [
    "\n",
    "## Preliminares adicionales sobre Python para esta práctica\n"
   ]
  },
  {
   "cell_type": "markdown",
   "id": "3c2f982c",
   "metadata": {},
   "source": [
    "Además de lo visto en la P0, conviene familiarizarse con algunas funciones disponibles en Python que pueden resultarte especialmente útiles más adelante en la realización de esta práctica.\n"
   ]
  },
  {
   "cell_type": "markdown",
   "id": "b69c9368",
   "metadata": {},
   "source": [
    "Por ejemplo, puedes generar números aletorios de la siguiente forma utilizando el paquete `random`."
   ]
  },
  {
   "cell_type": "code",
   "execution_count": 1,
   "id": "d6354e9a",
   "metadata": {},
   "outputs": [
    {
     "name": "stdout",
     "output_type": "stream",
     "text": [
      "1\n",
      "0.596801625801437\n"
     ]
    }
   ],
   "source": [
    "import random\n",
    "\n",
    "# podemos crear un numero aleatorio entre 1 y 10\n",
    "numero_aleatorio = random.randint(1, 10)\n",
    "print(numero_aleatorio)\n",
    "\n",
    "# y números aleatorios entre 0 y 1 siguiendo también una distribución uniforme\n",
    "numero_U = random.uniform(0,1)\n",
    "print (numero_U)"
   ]
  },
  {
   "cell_type": "markdown",
   "id": "a9c96428",
   "metadata": {},
   "source": [
    "Puedes generar vectores de números fijos y aleatorios que a su vez estén barajados de manera aleatoria como se ilustra a continuación."
   ]
  },
  {
   "cell_type": "code",
   "execution_count": 2,
   "id": "371102aa",
   "metadata": {},
   "outputs": [
    {
     "name": "stdout",
     "output_type": "stream",
     "text": [
      "vector fijo [1, 2, 3, 4, 5, 6, 7, 8, 9]\n",
      "[3, 9, 8, 5, 6, 2, 1, 4, 7]\n",
      "vector aleatorio [3, 7, 3, 5, 5, 5, 6, 4, 3]\n",
      "[5, 4, 3, 3, 7, 5, 3, 5, 6]\n"
     ]
    }
   ],
   "source": [
    "vector = [x for x in range (1,10)]\n",
    "print(\"vector fijo\", vector)\n",
    "\n",
    "random.shuffle(vector)\n",
    "print(vector)\n",
    "\n",
    "vector_aleatorio = [random.randint(1, 10) for i in range(1,10)]\n",
    "print(\"vector aleatorio\", vector_aleatorio)\n",
    "\n",
    "random.shuffle(vector_aleatorio)\n",
    "print(vector_aleatorio)"
   ]
  },
  {
   "cell_type": "markdown",
   "id": "3a5608a8",
   "metadata": {},
   "source": [
    "Otro conjunto de funciones importantes son las que vienen del módulo `math`. Puedes encontrar una lista de la funciones disponibles en https://docs.python.org/3/library/math.html. Ponemos algunos ejemplos de uso."
   ]
  },
  {
   "cell_type": "code",
   "execution_count": 3,
   "id": "670e454e",
   "metadata": {},
   "outputs": [
    {
     "name": "stdout",
     "output_type": "stream",
     "text": [
      "2.718281828459045\n",
      "7.38905609893065\n",
      "2.718281828459045\n",
      "7.3890560989306495\n",
      "1.0\n",
      "1.0\n"
     ]
    }
   ],
   "source": [
    "import math \n",
    "\n",
    "# número e elevado a la potencia indicada\n",
    "e = math.exp(1)\n",
    "print(e)\n",
    "\n",
    "power2_e = math.exp(2)\n",
    "print(power2_e)\n",
    "\n",
    "# ejemplo de potencia\n",
    "print(math.pow(e, 1))\n",
    "print(math.pow(e, 2))\n",
    "\n",
    "# ejemplo del logaritmo natural de base e\n",
    "base = e\n",
    "print (math.log(e))\n",
    "print (math.log(e, base))"
   ]
  },
  {
   "cell_type": "markdown",
   "id": "c1077d04",
   "metadata": {},
   "source": [
    "Finalmente, funciones del módulo `time` te permitirían obtener de manera aproximada tiempos de ejecución de secciones concretas de código. "
   ]
  },
  {
   "cell_type": "code",
   "execution_count": 4,
   "id": "f19e7fd6",
   "metadata": {},
   "outputs": [
    {
     "name": "stdout",
     "output_type": "stream",
     "text": [
      "---- 0.3020143508911133 segundos ----\n"
     ]
    }
   ],
   "source": [
    "import time\n",
    "start_time = time.time()\n",
    "\n",
    "sum = 0\n",
    "for i in range(1000000):\n",
    "    sum = sum * 1\n",
    "\n",
    "print(\"---- %s segundos ----\" % (time.time() - start_time))"
   ]
  },
  {
   "cell_type": "markdown",
   "id": "f73d01d4",
   "metadata": {},
   "source": [
    "## El Problema del Viajante de Comercio (VC) con Temple Simulado\n",
    "\n",
    "El objetivo de esta práctica es modelar e implementar un agente inteligente que sea capaz de resolver el problema del VC mediante la metaheurística (MH) de Enfriamiento o Temple Simulado (SA, del inglés Simulated Annealing). Para ello, realizarás una implementación del algoritmo básico visto en la clase expositiva y valorarás si la introducción de modificaciones en el diseño del algoritmo te permite mejorar la calidad de las soluciones alcanzadas."
   ]
  },
  {
   "cell_type": "markdown",
   "id": "8d0f75f2",
   "metadata": {},
   "source": [
    "\n",
    "### Definición del problema de Viajante de Comercio (VC)\n"
   ]
  },
  {
   "cell_type": "markdown",
   "id": "2d8f430b",
   "metadata": {},
   "source": [
    "\n",
    "El problema del viajante de comercio (VC) es el problema de la persona que quiere vender un producto, y que para ello quiere encontrar el viaje más corto posible a través de las ciudades de los clientes, haciendo una única visita a cada una, empezando y acabando el recorrido en su propia ciudad (recorrido circular desde la ciudad inicial).\n",
    "\n",
    "Típicamente, el problema parte de una representación mediante un grafo ponderado G=(N, A), donde N es el conjunto de n=|N| nodos (ciudades), y siendo A el conjunto de arcos conectando los nodos. Cada arco (i, j) ∈ A tiene asignado un peso d_ij que representa la distancia entre las ciudades i y j.\n"
   ]
  },
  {
   "cell_type": "markdown",
   "id": "bbcfc483",
   "metadata": {},
   "source": [
    "Para facilitar vuestra labor de implementación, os proporcionamos la clase `Localizaciones`, que permite cargar las localizaciones GPS que representan los vértices del grafo G de N ciudades, y permite calcular de manera transparente la distancia entre cualquier par de ciudades usando la fórmula del semiverseno https://es.wikipedia.org/wiki/F%C3%B3rmula_del_semiverseno, que sirve para calcular las distancias teniendo en cuenta la curvatura de la Tierra.\n"
   ]
  },
  {
   "cell_type": "markdown",
   "id": "3a2d6367",
   "metadata": {},
   "source": [
    "En primer lugar importa el módulo Python que acompaña esta práctica, que trae alguna función de apoyo implementada así como la clase de carga de datos."
   ]
  },
  {
   "cell_type": "code",
   "execution_count": 5,
   "id": "7e422090",
   "metadata": {},
   "outputs": [],
   "source": [
    "from helpers_mod_sa import *"
   ]
  },
  {
   "cell_type": "markdown",
   "id": "6438416b",
   "metadata": {},
   "source": [
    "Inspecciona el código de carga de localizaciones mediante `psource(Localizaciones)`"
   ]
  },
  {
   "cell_type": "code",
   "execution_count": 6,
   "id": "b4b9896c",
   "metadata": {},
   "outputs": [
    {
     "data": {
      "text/html": [
       "<!DOCTYPE html PUBLIC \"-//W3C//DTD HTML 4.01//EN\"\n",
       "   \"http://www.w3.org/TR/html4/strict.dtd\">\n",
       "<!--\n",
       "generated by Pygments <https://pygments.org/>\n",
       "Copyright 2006-2021 by the Pygments team.\n",
       "Licensed under the BSD license, see LICENSE for details.\n",
       "-->\n",
       "<html>\n",
       "<head>\n",
       "  <title></title>\n",
       "  <meta http-equiv=\"content-type\" content=\"text/html; charset=None\">\n",
       "  <style type=\"text/css\">\n",
       "/*\n",
       "generated by Pygments <https://pygments.org/>\n",
       "Copyright 2006-2021 by the Pygments team.\n",
       "Licensed under the BSD license, see LICENSE for details.\n",
       "*/\n",
       "pre { line-height: 125%; }\n",
       "td.linenos .normal { color: inherit; background-color: transparent; padding-left: 5px; padding-right: 5px; }\n",
       "span.linenos { color: inherit; background-color: transparent; padding-left: 5px; padding-right: 5px; }\n",
       "td.linenos .special { color: #000000; background-color: #ffffc0; padding-left: 5px; padding-right: 5px; }\n",
       "span.linenos.special { color: #000000; background-color: #ffffc0; padding-left: 5px; padding-right: 5px; }\n",
       "body .hll { background-color: #ffffcc }\n",
       "body { background: #f8f8f8; }\n",
       "body .c { color: #408080; font-style: italic } /* Comment */\n",
       "body .err { border: 1px solid #FF0000 } /* Error */\n",
       "body .k { color: #008000; font-weight: bold } /* Keyword */\n",
       "body .o { color: #666666 } /* Operator */\n",
       "body .ch { color: #408080; font-style: italic } /* Comment.Hashbang */\n",
       "body .cm { color: #408080; font-style: italic } /* Comment.Multiline */\n",
       "body .cp { color: #BC7A00 } /* Comment.Preproc */\n",
       "body .cpf { color: #408080; font-style: italic } /* Comment.PreprocFile */\n",
       "body .c1 { color: #408080; font-style: italic } /* Comment.Single */\n",
       "body .cs { color: #408080; font-style: italic } /* Comment.Special */\n",
       "body .gd { color: #A00000 } /* Generic.Deleted */\n",
       "body .ge { font-style: italic } /* Generic.Emph */\n",
       "body .gr { color: #FF0000 } /* Generic.Error */\n",
       "body .gh { color: #000080; font-weight: bold } /* Generic.Heading */\n",
       "body .gi { color: #00A000 } /* Generic.Inserted */\n",
       "body .go { color: #888888 } /* Generic.Output */\n",
       "body .gp { color: #000080; font-weight: bold } /* Generic.Prompt */\n",
       "body .gs { font-weight: bold } /* Generic.Strong */\n",
       "body .gu { color: #800080; font-weight: bold } /* Generic.Subheading */\n",
       "body .gt { color: #0044DD } /* Generic.Traceback */\n",
       "body .kc { color: #008000; font-weight: bold } /* Keyword.Constant */\n",
       "body .kd { color: #008000; font-weight: bold } /* Keyword.Declaration */\n",
       "body .kn { color: #008000; font-weight: bold } /* Keyword.Namespace */\n",
       "body .kp { color: #008000 } /* Keyword.Pseudo */\n",
       "body .kr { color: #008000; font-weight: bold } /* Keyword.Reserved */\n",
       "body .kt { color: #B00040 } /* Keyword.Type */\n",
       "body .m { color: #666666 } /* Literal.Number */\n",
       "body .s { color: #BA2121 } /* Literal.String */\n",
       "body .na { color: #7D9029 } /* Name.Attribute */\n",
       "body .nb { color: #008000 } /* Name.Builtin */\n",
       "body .nc { color: #0000FF; font-weight: bold } /* Name.Class */\n",
       "body .no { color: #880000 } /* Name.Constant */\n",
       "body .nd { color: #AA22FF } /* Name.Decorator */\n",
       "body .ni { color: #999999; font-weight: bold } /* Name.Entity */\n",
       "body .ne { color: #D2413A; font-weight: bold } /* Name.Exception */\n",
       "body .nf { color: #0000FF } /* Name.Function */\n",
       "body .nl { color: #A0A000 } /* Name.Label */\n",
       "body .nn { color: #0000FF; font-weight: bold } /* Name.Namespace */\n",
       "body .nt { color: #008000; font-weight: bold } /* Name.Tag */\n",
       "body .nv { color: #19177C } /* Name.Variable */\n",
       "body .ow { color: #AA22FF; font-weight: bold } /* Operator.Word */\n",
       "body .w { color: #bbbbbb } /* Text.Whitespace */\n",
       "body .mb { color: #666666 } /* Literal.Number.Bin */\n",
       "body .mf { color: #666666 } /* Literal.Number.Float */\n",
       "body .mh { color: #666666 } /* Literal.Number.Hex */\n",
       "body .mi { color: #666666 } /* Literal.Number.Integer */\n",
       "body .mo { color: #666666 } /* Literal.Number.Oct */\n",
       "body .sa { color: #BA2121 } /* Literal.String.Affix */\n",
       "body .sb { color: #BA2121 } /* Literal.String.Backtick */\n",
       "body .sc { color: #BA2121 } /* Literal.String.Char */\n",
       "body .dl { color: #BA2121 } /* Literal.String.Delimiter */\n",
       "body .sd { color: #BA2121; font-style: italic } /* Literal.String.Doc */\n",
       "body .s2 { color: #BA2121 } /* Literal.String.Double */\n",
       "body .se { color: #BB6622; font-weight: bold } /* Literal.String.Escape */\n",
       "body .sh { color: #BA2121 } /* Literal.String.Heredoc */\n",
       "body .si { color: #BB6688; font-weight: bold } /* Literal.String.Interpol */\n",
       "body .sx { color: #008000 } /* Literal.String.Other */\n",
       "body .sr { color: #BB6688 } /* Literal.String.Regex */\n",
       "body .s1 { color: #BA2121 } /* Literal.String.Single */\n",
       "body .ss { color: #19177C } /* Literal.String.Symbol */\n",
       "body .bp { color: #008000 } /* Name.Builtin.Pseudo */\n",
       "body .fm { color: #0000FF } /* Name.Function.Magic */\n",
       "body .vc { color: #19177C } /* Name.Variable.Class */\n",
       "body .vg { color: #19177C } /* Name.Variable.Global */\n",
       "body .vi { color: #19177C } /* Name.Variable.Instance */\n",
       "body .vm { color: #19177C } /* Name.Variable.Magic */\n",
       "body .il { color: #666666 } /* Literal.Number.Integer.Long */\n",
       "\n",
       "  </style>\n",
       "</head>\n",
       "<body>\n",
       "<h2></h2>\n",
       "\n",
       "<div class=\"highlight\"><pre><span></span><span class=\"k\">class</span> <span class=\"nc\">Localizaciones</span> <span class=\"p\">():</span>\n",
       "\n",
       "    <span class=\"k\">def</span> <span class=\"fm\">__init__</span> <span class=\"p\">(</span><span class=\"bp\">self</span><span class=\"p\">,</span> <span class=\"n\">filename</span><span class=\"o\">=</span><span class=\"s1\">&#39;./data/grafo8cidades.txt&#39;</span><span class=\"p\">):</span>\n",
       "        <span class=\"bp\">self</span><span class=\"o\">.</span><span class=\"n\">filename</span> <span class=\"o\">=</span> <span class=\"n\">filename</span>\n",
       "        <span class=\"n\">file</span> <span class=\"o\">=</span> <span class=\"nb\">open</span><span class=\"p\">(</span><span class=\"n\">filename</span><span class=\"p\">,</span> <span class=\"s1\">&#39;r&#39;</span><span class=\"p\">)</span>\n",
       "        <span class=\"n\">Lines</span> <span class=\"o\">=</span> <span class=\"n\">file</span><span class=\"o\">.</span><span class=\"n\">readlines</span><span class=\"p\">()</span>\n",
       "\n",
       "        <span class=\"n\">count</span> <span class=\"o\">=</span> <span class=\"o\">-</span><span class=\"mi\">1</span>\n",
       "        <span class=\"bp\">self</span><span class=\"o\">.</span><span class=\"n\">nciudades</span> <span class=\"o\">=</span> <span class=\"mi\">0</span> \n",
       "        <span class=\"bp\">self</span><span class=\"o\">.</span><span class=\"n\">tablaciudades</span> <span class=\"o\">=</span> <span class=\"nb\">dict</span><span class=\"p\">()</span>\n",
       "        <span class=\"k\">for</span> <span class=\"n\">line</span> <span class=\"ow\">in</span> <span class=\"n\">Lines</span><span class=\"p\">:</span>\n",
       "            <span class=\"k\">if</span> <span class=\"n\">count</span> <span class=\"o\">==</span> <span class=\"o\">-</span><span class=\"mi\">1</span><span class=\"p\">:</span>\n",
       "                <span class=\"bp\">self</span><span class=\"o\">.</span><span class=\"n\">nciudades</span> <span class=\"o\">=</span> <span class=\"nb\">int</span><span class=\"p\">(</span><span class=\"n\">line</span><span class=\"o\">.</span><span class=\"n\">strip</span><span class=\"p\">()</span><span class=\"o\">.</span><span class=\"n\">split</span><span class=\"p\">()[</span><span class=\"mi\">0</span><span class=\"p\">])</span>        \n",
       "            <span class=\"k\">else</span><span class=\"p\">:</span>\n",
       "                <span class=\"n\">tokens</span> <span class=\"o\">=</span> <span class=\"n\">line</span><span class=\"o\">.</span><span class=\"n\">strip</span><span class=\"p\">()</span><span class=\"o\">.</span><span class=\"n\">split</span><span class=\"p\">()</span>\n",
       "                <span class=\"bp\">self</span><span class=\"o\">.</span><span class=\"n\">tablaciudades</span><span class=\"p\">[</span><span class=\"n\">count</span><span class=\"p\">]</span><span class=\"o\">=</span><span class=\"nb\">tuple</span><span class=\"p\">((</span><span class=\"nb\">float</span><span class=\"p\">(</span><span class=\"n\">tokens</span><span class=\"p\">[</span><span class=\"mi\">0</span><span class=\"p\">]),</span><span class=\"nb\">float</span><span class=\"p\">(</span><span class=\"n\">tokens</span><span class=\"p\">[</span><span class=\"mi\">1</span><span class=\"p\">])))</span>                \n",
       "\n",
       "            <span class=\"n\">count</span><span class=\"o\">+=</span><span class=\"mi\">1</span>\n",
       "    \n",
       "        <span class=\"bp\">self</span><span class=\"o\">.</span><span class=\"n\">matriz</span> <span class=\"o\">=</span> <span class=\"p\">[]</span>\n",
       "        <span class=\"k\">for</span> <span class=\"n\">c1</span> <span class=\"ow\">in</span> <span class=\"nb\">range</span><span class=\"p\">(</span><span class=\"bp\">self</span><span class=\"o\">.</span><span class=\"n\">nciudades</span><span class=\"p\">):</span>\n",
       "            <span class=\"n\">a</span> <span class=\"o\">=</span> <span class=\"p\">[</span><span class=\"mi\">0</span><span class=\"p\">]</span><span class=\"o\">*</span><span class=\"bp\">self</span><span class=\"o\">.</span><span class=\"n\">nciudades</span>\n",
       "            <span class=\"bp\">self</span><span class=\"o\">.</span><span class=\"n\">matriz</span><span class=\"o\">.</span><span class=\"n\">append</span><span class=\"p\">(</span><span class=\"n\">a</span><span class=\"p\">)</span>\n",
       "            <span class=\"k\">for</span> <span class=\"n\">c2</span> <span class=\"ow\">in</span> <span class=\"nb\">range</span><span class=\"p\">(</span><span class=\"bp\">self</span><span class=\"o\">.</span><span class=\"n\">nciudades</span><span class=\"p\">):</span>\n",
       "                <span class=\"bp\">self</span><span class=\"o\">.</span><span class=\"n\">matriz</span><span class=\"p\">[</span><span class=\"n\">c1</span><span class=\"p\">][</span><span class=\"n\">c2</span><span class=\"p\">]</span> <span class=\"o\">=</span> <span class=\"bp\">self</span><span class=\"o\">.</span><span class=\"n\">__distancia_semiverseno__</span><span class=\"p\">(</span><span class=\"n\">c1</span><span class=\"p\">,</span> <span class=\"n\">c2</span><span class=\"p\">)</span>\n",
       "    \n",
       "    <span class=\"k\">def</span> <span class=\"nf\">__distancia_semiverseno__</span> <span class=\"p\">(</span><span class=\"bp\">self</span><span class=\"p\">,</span> <span class=\"n\">c1</span><span class=\"p\">,</span> <span class=\"n\">c2</span><span class=\"p\">):</span>\n",
       "        <span class=\"n\">radioTierra</span> <span class=\"o\">=</span> <span class=\"mi\">6371</span>\n",
       "        <span class=\"n\">lat1</span> <span class=\"o\">=</span> <span class=\"n\">math</span><span class=\"o\">.</span><span class=\"n\">radians</span><span class=\"p\">(</span><span class=\"bp\">self</span><span class=\"o\">.</span><span class=\"n\">tablaciudades</span><span class=\"p\">[</span><span class=\"n\">c1</span><span class=\"p\">][</span><span class=\"mi\">0</span><span class=\"p\">]);</span>\n",
       "        <span class=\"n\">lon1</span> <span class=\"o\">=</span> <span class=\"n\">math</span><span class=\"o\">.</span><span class=\"n\">radians</span><span class=\"p\">(</span><span class=\"bp\">self</span><span class=\"o\">.</span><span class=\"n\">tablaciudades</span><span class=\"p\">[</span><span class=\"n\">c1</span><span class=\"p\">][</span><span class=\"mi\">1</span><span class=\"p\">]);</span>\n",
       "        <span class=\"n\">lat2</span> <span class=\"o\">=</span> <span class=\"n\">math</span><span class=\"o\">.</span><span class=\"n\">radians</span><span class=\"p\">(</span><span class=\"bp\">self</span><span class=\"o\">.</span><span class=\"n\">tablaciudades</span><span class=\"p\">[</span><span class=\"n\">c2</span><span class=\"p\">][</span><span class=\"mi\">0</span><span class=\"p\">]);</span>\n",
       "        <span class=\"n\">lon2</span> <span class=\"o\">=</span> <span class=\"n\">math</span><span class=\"o\">.</span><span class=\"n\">radians</span><span class=\"p\">(</span><span class=\"bp\">self</span><span class=\"o\">.</span><span class=\"n\">tablaciudades</span><span class=\"p\">[</span><span class=\"n\">c2</span><span class=\"p\">][</span><span class=\"mi\">1</span><span class=\"p\">]);</span>\n",
       "        \n",
       "        <span class=\"n\">sinChi</span> <span class=\"o\">=</span> <span class=\"n\">math</span><span class=\"o\">.</span><span class=\"n\">sin</span><span class=\"p\">((</span><span class=\"n\">lat2</span> <span class=\"o\">-</span> <span class=\"n\">lat1</span><span class=\"p\">)</span> <span class=\"o\">/</span> <span class=\"mi\">2</span><span class=\"p\">);</span>\n",
       "        <span class=\"n\">sinLambda</span> <span class=\"o\">=</span> <span class=\"n\">math</span><span class=\"o\">.</span><span class=\"n\">sin</span><span class=\"p\">((</span><span class=\"n\">lon2</span> <span class=\"o\">-</span> <span class=\"n\">lon1</span><span class=\"p\">)</span> <span class=\"o\">/</span> <span class=\"mi\">2</span><span class=\"p\">);</span>\n",
       "\n",
       "        <span class=\"n\">raiz</span> <span class=\"o\">=</span> <span class=\"p\">(</span><span class=\"n\">sinChi</span> <span class=\"o\">*</span> <span class=\"n\">sinChi</span><span class=\"p\">)</span> <span class=\"o\">+</span> <span class=\"n\">math</span><span class=\"o\">.</span><span class=\"n\">cos</span><span class=\"p\">(</span><span class=\"n\">lat1</span><span class=\"p\">)</span> <span class=\"o\">*</span> <span class=\"n\">math</span><span class=\"o\">.</span><span class=\"n\">cos</span><span class=\"p\">(</span><span class=\"n\">lat2</span><span class=\"p\">)</span> <span class=\"o\">*</span> <span class=\"p\">(</span><span class=\"n\">sinLambda</span> <span class=\"o\">*</span> <span class=\"n\">sinLambda</span><span class=\"p\">);</span>\n",
       "\n",
       "        <span class=\"k\">return</span> <span class=\"mi\">2</span> <span class=\"o\">*</span> <span class=\"n\">radioTierra</span> <span class=\"o\">*</span> <span class=\"n\">math</span><span class=\"o\">.</span><span class=\"n\">asin</span><span class=\"p\">(</span><span class=\"n\">math</span><span class=\"o\">.</span><span class=\"n\">sqrt</span><span class=\"p\">(</span><span class=\"n\">raiz</span><span class=\"p\">));</span>\n",
       "    \n",
       "    <span class=\"k\">def</span> <span class=\"nf\">distancia</span> <span class=\"p\">(</span><span class=\"bp\">self</span><span class=\"p\">,</span> <span class=\"n\">c1</span><span class=\"p\">,</span> <span class=\"n\">c2</span><span class=\"p\">):</span>        \n",
       "        <span class=\"k\">return</span> <span class=\"bp\">self</span><span class=\"o\">.</span><span class=\"n\">matriz</span> <span class=\"p\">[</span><span class=\"n\">c1</span><span class=\"p\">][</span><span class=\"n\">c2</span><span class=\"p\">]</span>\n",
       "</pre></div>\n",
       "</body>\n",
       "</html>\n"
      ],
      "text/plain": [
       "<IPython.core.display.HTML object>"
      ]
     },
     "metadata": {},
     "output_type": "display_data"
    }
   ],
   "source": [
    "psource (Localizaciones)"
   ]
  },
  {
   "cell_type": "markdown",
   "id": "87ee11d6",
   "metadata": {},
   "source": [
    "Fíjate que por defecto se carga el fichero `./data/grafo8cidades.txt`, que contiene las coordenadas GPS de 8 ciudades gallegas, siendo Santiago de Compostela la primera de ellas. La primera línea de estos ficheros indica el número de ciudades n, mientras que cada una de las líneas sucesivas especifican las coordenadas de cada ciudad, especificadas como coordenadas GPS (latitud y longitud en grados).\n",
    "\n",
    "Puedes cargar otro fichero haciendo uso del parámetro `filename` como se muestra a continuación. Si todo va bien, la primera distancia entre la ciudad 0 y 1 debe ser unos 55 km."
   ]
  },
  {
   "cell_type": "code",
   "execution_count": 7,
   "id": "12ff980c",
   "metadata": {},
   "outputs": [
    {
     "name": "stdout",
     "output_type": "stream",
     "text": [
      "55.88273580792048\n",
      "119.30959564041359\n"
     ]
    }
   ],
   "source": [
    "g1 = Localizaciones(filename='./data/grafo8cidades.txt')\n",
    "print(g1.distancia(0,1))\n",
    "g2 = Localizaciones(filename='./data/grafos10_10/grafo_1.txt')\n",
    "print(g2.distancia(0,1))"
   ]
  },
  {
   "cell_type": "markdown",
   "id": "61163804",
   "metadata": {},
   "source": [
    "El VC se reduce al problema de crear el circuito Hamiltoniano de longitud mínima sobre el grafo G. La solución a una instancia del problema del VC puede representarse como una permutación de los índices de las ciudades, donde lo importante es el orden de visita, que determinará el coste del viaje en términos de la distancia recorrida total. \n",
    "\n",
    "De este modo, el problema pertenece a la categoría de problemas NP, pues puede haber n permutaciones que se corresponden al espacio de búsqueda posible. Esto hace que resolver instancias de problemas con muchas ciudades (n grande) haga el problema impracticable con estrategias de búsqueda no-informadas y éste pueda beneficiarse de ciertas metaheurísticas, pudiendo abordar de problemas con tallas más grande a la vez que se obtienen soluciones razonablemente buenas."
   ]
  },
  {
   "cell_type": "markdown",
   "id": "045122c3",
   "metadata": {},
   "source": [
    "\n",
    "## P1.1: Implementación básica de Temple Simulado\n"
   ]
  },
  {
   "cell_type": "markdown",
   "id": "88a4e0a6",
   "metadata": {},
   "source": [
    "\n",
    "Implementa el algoritmo básico de Temple Simulado para resolver el problema del VC enunciado arriba. Para ello, revisa la descripción algorítmica de la MH vista en la clase expositiva (Véase el T1, diapositiva 37 y asociadas).\n",
    "\n",
    "Ten en cuenta las siguientes consideraciones de diseño para completar la implementación básica:\n",
    "- Representación  de  las  soluciones:  representación  de  orden  (permutaciones)  comenzando y finalizando en la ciudad 0. \n",
    "\n",
    "- Solución inicial: generación aleatoria de una permutación válida.\n",
    "\n",
    "- Operador  de  selección  de  la  solución  siguiente  Scand  a  partir  de  la  actual  Sact:  operador  de  intercambio. \n",
    "\n",
    "- Función de coste: suma de las distancias del camino según el orden del recorrido.\n",
    "\n",
    "- Mecanismo de enfriamiento: mecanismo exponencial decreciente que sigue la expressión 𝑇(𝑘)=T0·𝑒(−𝜆𝑘), donde 𝑘 es el número de iteración y T0, λ son los parámetros de diseño.\n",
    "\n",
    "    Para esta implementación básica considera, 𝑇(𝑘) = 20 · 𝑒(−0.0045𝑘), para establecer los parámetros por defecto de T0 y 𝜆, con temperatura inicial fija T0=20 y 𝜆=0.0045 respectivamente.\n",
    "\n",
    "- Condición de parada: número fijo de iteraciones (limite=1000). No se precisa definir Tfinal.\n",
    "\n",
    "Para verificar tu implementación, puedes utilizar el fichero de localizaciones de 8 ciudades gallegas (*grafo8cidades.txt*). La solución óptima resuelta con una búsqueda informada como A* se situa en torno a los 382km.\n",
    "\n",
    "Para comprobar que tu implementación es suficientemente general como para manejar problemas del VC diferentes tallas, puedes probar también con el fichero de localizaciones de 120 ciudades de USA proporcionado en esta práctica (*US120.txt*).\n"
   ]
  },
  {
   "cell_type": "code",
   "execution_count": 8,
   "id": "f3bac76c",
   "metadata": {},
   "outputs": [],
   "source": [
    "# REPRESENTACIÓN DE LAS SOLUCIONES\n",
    "# En este diseño, a pesar de que siempre se empieza en la ciudad 0 y se acaba en la ciudad 0, se\n",
    "# procede a almacenar todo el orden de las ciudades, incluyendo las iniciales y las finales, para\n",
    "# facilitar ciertas funciones como coste.\n",
    "# [0, 1, 2, 3, 4, 5, 6, 7, 0]\n",
    "\n",
    "# TODO: Confirmar si se almacenan todas las soluciones actuales o solo la última"
   ]
  },
  {
   "cell_type": "code",
   "execution_count": 9,
   "id": "46ec77e9",
   "metadata": {},
   "outputs": [],
   "source": [
    "# SOLUCIÓN INICIAL\n",
    "def genera_solucion_inicial(loc):\n",
    "    sol = [x for x in range(1, loc.nciudades)]\n",
    "    random.shuffle(sol)\n",
    "    return [0] + sol + [0]"
   ]
  },
  {
   "cell_type": "code",
   "execution_count": 10,
   "id": "9ea70fbc",
   "metadata": {},
   "outputs": [],
   "source": [
    "# OPERADOR DE SELECCIÓN DE LA SOLUCIÓN SIGUIENTE\n",
    "def selecciona_solucion_siguiente(loc, sact):\n",
    "    # TODO: Confirmar si se selecciona aleatoriamente, o por fuerza bruta para probar todas las combinaciones\n",
    "    #       en el segundo bucle.\n",
    "    pos_cambio = random.randint(1, loc.nciudades-1)\n",
    "    pos_opuesto = pos_cambio\n",
    "    while pos_opuesto == pos_cambio:\n",
    "        pos_opuesto = random.randint(1, loc.nciudades-1)\n",
    "    \n",
    "    scand = sact.copy()\n",
    "    scand[pos_cambio], scand[pos_opuesto] = sact[pos_opuesto], sact[pos_cambio]\n",
    "    return scand"
   ]
  },
  {
   "cell_type": "code",
   "execution_count": 11,
   "id": "8bf917fb",
   "metadata": {},
   "outputs": [],
   "source": [
    "# FUNCIÓN DE COSTE\n",
    "def coste(loc, sol):\n",
    "    s = 0\n",
    "    for i in range(0, len(sol)-1):\n",
    "        s += loc.distancia(sol[i], sol[i+1])\n",
    "    return s"
   ]
  },
  {
   "cell_type": "code",
   "execution_count": 12,
   "id": "fb0ab7f2",
   "metadata": {},
   "outputs": [],
   "source": [
    "# MECANISMO DE ENFRIAMIENTO\n",
    "t0, l = 20, 0.0045\n",
    "\n",
    "# NOTA: Se pasan todos estos parámetros \"no útiles\" para poder mantener la misma función\n",
    "# de temple_simulado más adelante al definir un valor de T0 dinámico.\n",
    "T0 = lambda loc, prob, empeorar, sol_inicial: t0\n",
    "\n",
    "def T(k):\n",
    "    return 20 * math.exp(-l*k)"
   ]
  },
  {
   "cell_type": "code",
   "execution_count": 13,
   "id": "a51d4d79",
   "metadata": {},
   "outputs": [],
   "source": [
    "# CONDICIÓN DE PARADA\n",
    "limite = 1000"
   ]
  },
  {
   "cell_type": "code",
   "execution_count": 14,
   "id": "858a0f7b",
   "metadata": {},
   "outputs": [],
   "source": [
    "# TEMPLE SIMULADO\n",
    "def temple_simulado(loc):\n",
    "    sact = genera_solucion_inicial(loc)\n",
    "    t = T0(loc, 0.5, 0.01, sact)\n",
    "    for i in range(0, limite):\n",
    "        # TODO: Confirmar si no se hace doble bucle (no se explota)\n",
    "        scand = selecciona_solucion_siguiente(loc, sact)\n",
    "        o = coste(loc, scand) - coste(loc, sact)\n",
    "        # Se inverte el orden de las condiciones (primero si es mejor, luego la \"agitación\")\n",
    "        # ya que el cálculo de si es mejor es más sencillo\n",
    "        if o < 0 or random.uniform(0, 1) < math.exp(-o/t):\n",
    "            sact = scand\n",
    "\n",
    "        t = T(i)\n",
    "    return sact"
   ]
  },
  {
   "cell_type": "code",
   "execution_count": 15,
   "id": "99c5ef76",
   "metadata": {},
   "outputs": [
    {
     "name": "stdout",
     "output_type": "stream",
     "text": [
      "381.6699617675482 [0, 7, 6, 5, 4, 3, 2, 1, 0]\n",
      "84993.4230578482 [0, 59, 105, 91, 22, 109, 41, 24, 71, 8, 100, 90, 43, 118, 85, 12, 67, 88, 86, 61, 33, 97, 57, 6, 44, 106, 115, 19, 5, 72, 54, 112, 27, 23, 119, 78, 26, 63, 46, 108, 31, 93, 18, 56, 111, 49, 20, 42, 107, 13, 69, 84, 37, 89, 83, 113, 58, 74, 2, 79, 68, 47, 95, 116, 29, 4, 21, 11, 14, 50, 28, 53, 40, 38, 101, 10, 114, 51, 36, 3, 52, 103, 25, 70, 9, 15, 99, 64, 62, 117, 92, 34, 17, 60, 35, 82, 75, 55, 7, 39, 1, 66, 65, 104, 48, 76, 87, 98, 96, 73, 102, 45, 30, 16, 94, 110, 81, 32, 77, 80, 0]\n"
     ]
    }
   ],
   "source": [
    "sol = temple_simulado(g1)\n",
    "print(coste(g1, sol), sol)\n",
    "# Las soluciones \"óptimas\" que salen son [0, 1, 2, 3, 4, 5, 6, 7, 0] y [0, 7, 6, 5, 4, 3, 2, 1, 0]\n",
    "\n",
    "g3=Localizaciones(filename='./data/US120.txt')\n",
    "sol = temple_simulado(g3)\n",
    "print(coste(g3, sol), sol)"
   ]
  },
  {
   "cell_type": "markdown",
   "id": "a981c2f1",
   "metadata": {},
   "source": [
    "❓ **Pregunta 1**. Explica brevemente los detalles relevantes de tu código para entender tu implementación (p.ej., estructura de tu código, funciones, etc.)"
   ]
  },
  {
   "cell_type": "markdown",
   "id": "f9c05313",
   "metadata": {},
   "source": [
    "❓ **Pregunta 2**. ¿Siempre obtienes soluciones óptimas en cada problema? ¿En qué proporción? Muestra cómo has realizado la verificación y explica brevemente los resultados obtenidos.\n",
    "\n",
    "Notas: sé conservador en tu estrategia para verificar tu implementación, especialmente cuando empleas ficheros de datos grandes como el del problema de las ciudades USA. Si dejas ejecutando tu algoritmo por un número elevado de iteraciones, puede resultarte útil medir el tiempo que tarda para tomar decisiones sobre donde establecer el límite. "
   ]
  },
  {
   "cell_type": "markdown",
   "id": "beb24520",
   "metadata": {},
   "source": [
    "### Ajuste de temperatura inicial dinámico"
   ]
  },
  {
   "cell_type": "markdown",
   "id": "0debc616",
   "metadata": {},
   "source": [
    "\n",
    "En tu implementación has establecido la temperatura inicial siguiendo un valor fijo completamente arbitrario. Esto puede no resultar siempre adecuado, y suele ser más conveniente disponer de un ajuste de la temperatura inicial (T0) que tenga en cuenta la instancia del problema a resolver. \n",
    "\n",
    "Modifica la implementación anterior para que puedas parametrizar el valor inicial del parámetro de control T0 utilizando la siguiente fórmula:\n",
    "\n",
    "    𝑇0 = −𝜇/ln(𝜙)𝐶(𝑆0), que permite aceptar (con una probabilidad 𝜙) soluciones siguientes que empeoren en μ (tanto por uno) a S0 (esto es, que sean (1+ μ) veces peores).\n",
    "\n",
    "En la fórmula, C(S0) es el coste de la solución inicial, con 𝜙=0.50 y 𝜇=0.01.\n"
   ]
  },
  {
   "cell_type": "code",
   "execution_count": 16,
   "id": "2529f9ae",
   "metadata": {},
   "outputs": [],
   "source": [
    "# NUEVO MECANISMO DE ENFRIAMIENTO\n",
    "T0 = lambda loc, prob, empeorar, sol_inicial: -empeorar/math.log(prob)*coste(loc, sol_inicial)"
   ]
  },
  {
   "cell_type": "code",
   "execution_count": 17,
   "id": "1e3ae5b8",
   "metadata": {},
   "outputs": [
    {
     "name": "stdout",
     "output_type": "stream",
     "text": [
      "381.6699617675482 [0, 7, 6, 5, 4, 3, 2, 1, 0]\n",
      "89663.38952017257 [0, 56, 85, 33, 29, 72, 102, 12, 87, 17, 47, 103, 118, 45, 30, 112, 54, 61, 1, 111, 60, 93, 28, 21, 86, 34, 9, 96, 117, 14, 91, 77, 119, 71, 16, 116, 39, 95, 19, 53, 80, 100, 68, 10, 89, 81, 109, 51, 79, 38, 7, 106, 76, 6, 44, 104, 108, 59, 107, 22, 101, 32, 43, 84, 98, 73, 110, 74, 24, 26, 41, 65, 5, 31, 88, 15, 115, 82, 40, 50, 4, 36, 23, 25, 27, 52, 20, 67, 75, 55, 37, 13, 105, 78, 114, 90, 113, 11, 2, 8, 42, 97, 57, 48, 70, 99, 94, 64, 58, 63, 62, 92, 46, 49, 3, 83, 69, 35, 18, 66, 0]\n"
     ]
    }
   ],
   "source": [
    "sol = temple_simulado(g1)\n",
    "print(coste(g1, sol), sol)\n",
    "\n",
    "sol = temple_simulado(g3)\n",
    "print(coste(g3, sol), sol)"
   ]
  },
  {
   "cell_type": "markdown",
   "id": "df744a7f",
   "metadata": {},
   "source": [
    "❓ **Pregunta 3**. Confecciona una tabla que muestre la relación de 𝐶(𝑆0), 𝜙 y 𝜇 con T0 para los dos problemas utilizados anteriormente (ciudades gallegas y ciudades USA). Entonces, de manera razonada amplia la tabla con variaciones de 𝜙 y 𝜇 para uno de los problemas. ¿Qué combinación da mayor/menor T0?\n",
    "\n",
    "❓ **Pregunta 4**. Escoge 5 combinaciones variadas de parámetros (incluidos los que regulan el mecanismo de enfriamiento, e.g., 𝜆). Ejecuta el algoritmo de Temple Simulado con esas combinaciones. Guarda los resultados en una celda, y discute los resultados obtenidos en cuanto a la calidad de las soluciones obtenidas.\n",
    "\n"
   ]
  },
  {
   "cell_type": "markdown",
   "id": "ac8d9805",
   "metadata": {},
   "source": [
    " \n",
    "## P1.2: Mejoras del algoritmo de Temple Simulado (No obligatorio)\n",
    "\n",
    "En esta sección el objetivo es realizar mejoras al algoritmo desarrollado previamente, de acuerdo a lo visto en las clases expositivas. Podrá modificarse cualquier parámetro u operador, como por ejemplo:\n",
    "- La solución inicial\n",
    "- El valor inicial del parámetro de control (T0).\n",
    "- El mecanismo de enfriamiento.\n",
    "- La velocidad de enfriamiento.\n",
    "- El mecanismo de selección de las soluciones candidatas\n",
    "- El criterio de parada"
   ]
  },
  {
   "cell_type": "markdown",
   "id": "0c0ccfd8",
   "metadata": {},
   "source": [
    "❓ **Pregunta 5**. ¿Qué intervenciones de mejora te ha llevado a mejores resultados? Explica brevemente las mejoras o intervenciones de mejora realizadas, cómo la has implementado, porqué las consideras buenas para el problema y presenta tus conclusiones acompañadas de los resultados obtenidos.\n"
   ]
  },
  {
   "cell_type": "markdown",
   "id": "82f11936",
   "metadata": {},
   "source": [
    "\n",
    "#### Respuestas al cuestionario (10 puntos)\n",
    "\n",
    "Recordatorio: No olvides escribir tu nombre y apellidos en la segunda celda de este documento.\n",
    "La respuestas a las preguntas deben venir acompañadas de las implementaciones necesarias para su respuesta.\n",
    "\n",
    "*P1.1: Implementación básica*\n",
    "\n",
    "Pregunta 1 (3 puntos). \n",
    "    Incluye las celdas que consideres oportunas para que sea legible y fácil de seguir.\n",
    "\n",
    "Pregunta 2 (1 puntos)\n",
    "\n",
    "Pregunta 3 (0.5 puntos)\n",
    "\n",
    "Pregunta 4 (1.5 puntos)\n",
    "\n",
    "*P1.2: Implementación mejoras* (No obligatoria)\n",
    "\n",
    "Pregunta 5 (4 puntos)"
   ]
  }
 ],
 "metadata": {
  "kernelspec": {
   "display_name": "Python 3 (ipykernel)",
   "language": "python",
   "name": "python3"
  },
  "language_info": {
   "codemirror_mode": {
    "name": "ipython",
    "version": 3
   },
   "file_extension": ".py",
   "mimetype": "text/x-python",
   "name": "python",
   "nbconvert_exporter": "python",
   "pygments_lexer": "ipython3",
   "version": "3.9.6"
  }
 },
 "nbformat": 4,
 "nbformat_minor": 5
}
