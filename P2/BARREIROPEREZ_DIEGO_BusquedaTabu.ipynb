{
 "cells": [
  {
   "cell_type": "markdown",
   "id": "3d57d457",
   "metadata": {},
   "source": [
    "\n",
    "# Práctica 2: Metaheurísticas basadas en trayectorias: Tabu Search"
   ]
  },
  {
   "cell_type": "markdown",
   "id": "dc9d72a9",
   "metadata": {},
   "source": [
    "<center><h3>\n",
    "    Diego Barreiro Pérez\n",
    "</h3></center>"
   ]
  },
  {
   "cell_type": "markdown",
   "id": "8087aede",
   "metadata": {},
   "source": [
    "# ⚠️ Instrucciones"
   ]
  },
  {
   "cell_type": "markdown",
   "id": "a351019b",
   "metadata": {},
   "source": [
    "Igual que en la Práctica 1, utilizaremos un **Jupyter Notebook** para la resolución de esta práctica.\n",
    "\n",
    "Como ya sabéis, nos permite ir ejecutando celdas de código poco a poco, así como generar automáticamente un informe bien formateado de la práctica. Aun así, a continuación tenéis unas breves instrucciones sobre como funciona:\n",
    "\n",
    "* Puedes añadir una celda con el botón **\"Insert\"** de la barra de herramentas, y cambiar su tipo con **\"Cell > Cell Type\"**\n",
    "* Para ejecutar una celda de código, la seleccionaremos y pulsaremos el botón **\"▶ Run\"** de la barra de herramentas.\n",
    "* Para pasar el documento a HTML, seleccionaremos **\"File > Download as > HTML (.html)\"**\n",
    "\n",
    "Sigue este guión hasta el final. Ejecuta el código proporcionado paso a paso comprendiendo lo que estás haciendo y reflexionando sobre los resultados. Habrá preguntas intercaladas a lo largo del guión, responde a todas ellas en la sección reservada para ese fin: **\"Respuestas a los cuestionarios\"**. Por favor, no modifiques ninguna linea de código excepto cuando se te pida explícitamente.\n",
    "\n",
    "No olvides insertar tu **nombre y apellidos** en la celda superior.\n",
    "\n",
    "IMPORTANTE: Se te pedirán dos implementaciones del algoritmo de Búsqueda Tabú, una primera implementación obligatoria y una implementación mejorada optativa. Escribe el código de tu o tus soluciones en las celdas que se indican para ello. Además, a lo largo de la práctica se plantearán varias preguntas que debéis responder en la parte inferior del documento, incluyendo las celdas que veáis necesarias (si hacéis referencia a partes concretas de vuestro código, etc) para reponder a ellas."
   ]
  },
  {
   "cell_type": "markdown",
   "id": "3c804f80",
   "metadata": {},
   "source": [
    "## Entrega de la práctica"
   ]
  },
  {
   "cell_type": "markdown",
   "id": "797d20ec",
   "metadata": {},
   "source": [
    "La fecha límite de entrega será la indicada en el Campus Virtual. La entrega consistirá de un único archivo comprimido con nombre `APELIDOS_NOME_BusquedaTabu.zip` que contenga los seguientes ficheros:\n",
    "\n",
    " * `APELIDOS_NOME_BusquedaTabu.html`: Archivo HTML fruto de la exportación del presente Notebook, con las preguntas respondidas al final del documento.\n",
    " * `APELIDOS_NOME_BusquedaTabu.ipynb`: Archivo fuente Jupyter Notebook.\n",
    " * Archivo de datos de los problema utilizados en la resolución.\n",
    " \n",
    " ---"
   ]
  },
  {
   "cell_type": "markdown",
   "id": "f7f872a1",
   "metadata": {},
   "source": [
    "\n",
    "# Preliminares adicionales sobre Python para esta práctica\n"
   ]
  },
  {
   "cell_type": "markdown",
   "id": "3c2f982c",
   "metadata": {},
   "source": [
    "Además de lo visto en la P0, y que ya usastéis en la P1, conviene repasar algunas de las funciones disponibles en Python que pueden resultarte especialmente útiles más adelante en la realización de esta práctica.\n",
    "\n",
    "Por ejemplo, puedes generar números aletorios de la siguiente forma utilizando el paquete `random`."
   ]
  },
  {
   "cell_type": "code",
   "execution_count": 1,
   "id": "d6354e9a",
   "metadata": {},
   "outputs": [
    {
     "name": "stdout",
     "output_type": "stream",
     "text": [
      "6\n",
      "0.7895994150794398\n"
     ]
    }
   ],
   "source": [
    "import random\n",
    "\n",
    "# podemos crear un numero aleatorio entre 1 y 10\n",
    "numero_aleatorio = random.randint(1, 10)\n",
    "print(numero_aleatorio)\n",
    "\n",
    "# y números aleatorios entre 0 y 1 siguiendo también una distribución uniforme\n",
    "numero_U = random.uniform(0,1)\n",
    "print (numero_U)"
   ]
  },
  {
   "cell_type": "markdown",
   "id": "a9c96428",
   "metadata": {},
   "source": [
    "Puedes generar listas de números predefinidos o aleatorios y posteriormente barajarlos de manera aleatoria utilizando las **[list comprehensions](https://jakevdp.github.io/WhirlwindTourOfPython/11-list-comprehensions.html)** de Python y la funcion **shuffle** de la siguiente forma:"
   ]
  },
  {
   "cell_type": "code",
   "execution_count": 2,
   "id": "371102aa",
   "metadata": {},
   "outputs": [
    {
     "name": "stdout",
     "output_type": "stream",
     "text": [
      "vector fijo  [1, 2, 3, 4, 5, 6, 7, 8, 9]\n",
      "[8, 4, 3, 6, 7, 9, 2, 5, 1]\n",
      "vector aleatorio  [5, 4, 2, 7, 9, 5, 2, 7, 3]\n",
      "[3, 2, 5, 5, 7, 7, 2, 4, 9]\n"
     ]
    }
   ],
   "source": [
    "vector = [x for x in range (1,10)]\n",
    "print (\"vector fijo \", vector)\n",
    "\n",
    "random.shuffle(vector)\n",
    "print (vector)\n",
    "\n",
    "vector_aleatorio = [ random.randint(1, 10) for i in range(1,10) ]\n",
    "print (\"vector aleatorio \", vector_aleatorio)\n",
    "\n",
    "random.shuffle(vector_aleatorio)\n",
    "print (vector_aleatorio)"
   ]
  },
  {
   "cell_type": "markdown",
   "id": "e4c8a62e",
   "metadata": {},
   "source": [
    "También podéis generar una lista de números aleatorios sin repetición en un rango determinado (permutación del rango)."
   ]
  },
  {
   "cell_type": "code",
   "execution_count": 3,
   "id": "b4a134cd",
   "metadata": {},
   "outputs": [
    {
     "name": "stdout",
     "output_type": "stream",
     "text": [
      "[1, 4, 2, 3, 6, 8, 7, 9, 5]\n"
     ]
    }
   ],
   "source": [
    "print(random.sample(range(1,10), 9))"
   ]
  },
  {
   "cell_type": "markdown",
   "id": "3a5608a8",
   "metadata": {},
   "source": [
    "Otro conjunto de funciones importantes son las que vienen del módulo `math`. Puedes encontrar una lista de la funciones disponibles en https://docs.python.org/3/library/math.html. Ponemos algunos ejemplos de uso."
   ]
  },
  {
   "cell_type": "code",
   "execution_count": 4,
   "id": "670e454e",
   "metadata": {},
   "outputs": [
    {
     "name": "stdout",
     "output_type": "stream",
     "text": [
      "2.718281828459045\n",
      "7.38905609893065\n",
      "2.718281828459045\n",
      "7.3890560989306495\n",
      "2.718281828459045\n",
      "7.3890560989306495\n",
      "1.0\n",
      "1.0\n"
     ]
    }
   ],
   "source": [
    "import math \n",
    "\n",
    "# número e elevado a la potencia indicada\n",
    "e=math.exp(1)\n",
    "print (e)\n",
    "\n",
    "power2_e=math.exp(2)\n",
    "print (power2_e)\n",
    "\n",
    "# ejemplo de potencia\n",
    "print(math.pow(e, 1))\n",
    "print(math.pow(e, 2))\n",
    "\n",
    "# también podéis hacer la potencia con la sintaxis básica de python con **\n",
    "print(e**1)\n",
    "print(e**2)\n",
    "\n",
    "# ejemplo del logaritmo natural de base e\n",
    "base = e\n",
    "print (math.log(e))\n",
    "print (math.log(e, base))\n"
   ]
  },
  {
   "cell_type": "markdown",
   "id": "c1077d04",
   "metadata": {},
   "source": [
    "Finalmente, funciones del módulo `time` te permitirían obtener de manera aproximada tiempos de ejecución de secciones concretas de código."
   ]
  },
  {
   "cell_type": "code",
   "execution_count": 5,
   "id": "f19e7fd6",
   "metadata": {},
   "outputs": [
    {
     "name": "stdout",
     "output_type": "stream",
     "text": [
      "---- 0.09942841529846191 segundos ----\n"
     ]
    }
   ],
   "source": [
    "import time\n",
    "start_time = time.time()\n",
    "\n",
    "sum = 0\n",
    "for i in range(1000000):\n",
    "    sum = sum * 1\n",
    "\n",
    "print(\"---- %s segundos ----\" % (time.time() - start_time))"
   ]
  },
  {
   "cell_type": "markdown",
   "id": "f73d01d4",
   "metadata": {},
   "source": [
    "---\n",
    "\n",
    "# El Problema del Viajante de Comercio (VC) con Búsqueda Tabú\n",
    "\n",
    "De nuevo, trataremos de resolver el problema del Viajante de Comercio, pero ahora con el algoritmo de Búsqueda Tabú.\n",
    "\n",
    "El objetivo de esta práctica es modelar e implementar un agente inteligente que sea capaz de resolver el problema del VC mediante la metaheurística (MH) de Busquedá Tabú (TS, del inglés Tabu Search). Para ello, realizarás una implementación del algoritmo básico visto en la clase expositiva y valorarás si la introducción de modificaciones en el diseño del algoritmo te permite mejorar la calidad de las soluciones alcanzadas."
   ]
  },
  {
   "cell_type": "markdown",
   "id": "8d0f75f2",
   "metadata": {},
   "source": [
    "\n",
    "## Definición del problema de Viajante de Comercio (VC)\n"
   ]
  },
  {
   "cell_type": "markdown",
   "id": "2d8f430b",
   "metadata": {},
   "source": [
    "\n",
    "El problema del viajante de comercio (VC) es el problema de la persona que quiere vender un producto, y que para ello quiere encontrar el viaje más corto posible a través de las ciudades de los clientes, haciendo una única visita a cada una, empezando y acabando el recorrido en su propia ciudad (recorrido circular desde la ciudad inicial).\n",
    "\n",
    "Típicamente, el problema parte de una representación mediante un grafo ponderado G=(N, A), donde N es el conjunto de n=|N| nodos (ciudades), y siendo A el conjunto de arcos conectando los nodos. Cada arco (i, j) ∈ A tiene asignado un peso d_ij que representa la distancia entre las ciudades i y j.\n",
    "\n",
    "El VC se reduce al problema de crear el circuito Hamiltoniano de longitud mínima sobre el grafo G. La solución a una instancia del problema del VC puede representarse como una permutación de los índices de las ciudades, donde lo importante es el orden de visita, que determinará el coste del viaje en términos de la distancia recorrida total. \n",
    "\n",
    "De este modo, el problema pertenece a la categoría de problemas NP, pues puede haber n permutaciones que se corresponden al espacio de búsqueda posible. Esto hace que resolver instancias de problemas con muchas ciudades (n grande) haga el problema impracticable con estrategias de búsqueda no-informadas y éste pueda beneficiarse de ciertas metaheurísticas, pudiendo abordar de problemas con tallas más grande a la vez que se obtienen soluciones razonablemente buenas.\n"
   ]
  },
  {
   "cell_type": "markdown",
   "id": "3a2d6367",
   "metadata": {},
   "source": [
    "### Nociones previas\n",
    "\n",
    "Para facilitar vuestra labor de implementación, os proporcionamos la clase `Localizaciones`, que permite cargar las localizaciones GPS que representan los vértices del grafo G de N ciudades, y permite calcular de manera transparente la distancia entre cualquier par de ciudades usando la [fórmula del semiverseno]( https://es.wikipedia.org/wiki/F%C3%B3rmula_del_semiverseno), que sirve para calcular las distancias teniendo en cuenta la curvatura de la Tierra. \n",
    "Es importante tener en cuenta que en la fórmula del semiverseno las coordenadas se expresan en radianes.\n",
    "\n",
    "\n",
    "En primer lugar importa el módulo Python que acompaña esta práctica, que trae alguna función de apoyo implementada así como la clase de carga de datos."
   ]
  },
  {
   "cell_type": "code",
   "execution_count": 6,
   "id": "7e422090",
   "metadata": {},
   "outputs": [],
   "source": [
    "from helpers_mod_sa import *"
   ]
  },
  {
   "cell_type": "markdown",
   "id": "6438416b",
   "metadata": {},
   "source": [
    "Inspecciona el código de carga de localizaciones mediante `psource(Localizaciones)`"
   ]
  },
  {
   "cell_type": "code",
   "execution_count": 7,
   "id": "b4b9896c",
   "metadata": {},
   "outputs": [
    {
     "data": {
      "text/html": [
       "<!DOCTYPE html PUBLIC \"-//W3C//DTD HTML 4.01//EN\"\n",
       "   \"http://www.w3.org/TR/html4/strict.dtd\">\n",
       "<!--\n",
       "generated by Pygments <https://pygments.org/>\n",
       "Copyright 2006-2021 by the Pygments team.\n",
       "Licensed under the BSD license, see LICENSE for details.\n",
       "-->\n",
       "<html>\n",
       "<head>\n",
       "  <title></title>\n",
       "  <meta http-equiv=\"content-type\" content=\"text/html; charset=None\">\n",
       "  <style type=\"text/css\">\n",
       "/*\n",
       "generated by Pygments <https://pygments.org/>\n",
       "Copyright 2006-2021 by the Pygments team.\n",
       "Licensed under the BSD license, see LICENSE for details.\n",
       "*/\n",
       "pre { line-height: 125%; }\n",
       "td.linenos .normal { color: inherit; background-color: transparent; padding-left: 5px; padding-right: 5px; }\n",
       "span.linenos { color: inherit; background-color: transparent; padding-left: 5px; padding-right: 5px; }\n",
       "td.linenos .special { color: #000000; background-color: #ffffc0; padding-left: 5px; padding-right: 5px; }\n",
       "span.linenos.special { color: #000000; background-color: #ffffc0; padding-left: 5px; padding-right: 5px; }\n",
       "body .hll { background-color: #ffffcc }\n",
       "body { background: #f8f8f8; }\n",
       "body .c { color: #408080; font-style: italic } /* Comment */\n",
       "body .err { border: 1px solid #FF0000 } /* Error */\n",
       "body .k { color: #008000; font-weight: bold } /* Keyword */\n",
       "body .o { color: #666666 } /* Operator */\n",
       "body .ch { color: #408080; font-style: italic } /* Comment.Hashbang */\n",
       "body .cm { color: #408080; font-style: italic } /* Comment.Multiline */\n",
       "body .cp { color: #BC7A00 } /* Comment.Preproc */\n",
       "body .cpf { color: #408080; font-style: italic } /* Comment.PreprocFile */\n",
       "body .c1 { color: #408080; font-style: italic } /* Comment.Single */\n",
       "body .cs { color: #408080; font-style: italic } /* Comment.Special */\n",
       "body .gd { color: #A00000 } /* Generic.Deleted */\n",
       "body .ge { font-style: italic } /* Generic.Emph */\n",
       "body .gr { color: #FF0000 } /* Generic.Error */\n",
       "body .gh { color: #000080; font-weight: bold } /* Generic.Heading */\n",
       "body .gi { color: #00A000 } /* Generic.Inserted */\n",
       "body .go { color: #888888 } /* Generic.Output */\n",
       "body .gp { color: #000080; font-weight: bold } /* Generic.Prompt */\n",
       "body .gs { font-weight: bold } /* Generic.Strong */\n",
       "body .gu { color: #800080; font-weight: bold } /* Generic.Subheading */\n",
       "body .gt { color: #0044DD } /* Generic.Traceback */\n",
       "body .kc { color: #008000; font-weight: bold } /* Keyword.Constant */\n",
       "body .kd { color: #008000; font-weight: bold } /* Keyword.Declaration */\n",
       "body .kn { color: #008000; font-weight: bold } /* Keyword.Namespace */\n",
       "body .kp { color: #008000 } /* Keyword.Pseudo */\n",
       "body .kr { color: #008000; font-weight: bold } /* Keyword.Reserved */\n",
       "body .kt { color: #B00040 } /* Keyword.Type */\n",
       "body .m { color: #666666 } /* Literal.Number */\n",
       "body .s { color: #BA2121 } /* Literal.String */\n",
       "body .na { color: #7D9029 } /* Name.Attribute */\n",
       "body .nb { color: #008000 } /* Name.Builtin */\n",
       "body .nc { color: #0000FF; font-weight: bold } /* Name.Class */\n",
       "body .no { color: #880000 } /* Name.Constant */\n",
       "body .nd { color: #AA22FF } /* Name.Decorator */\n",
       "body .ni { color: #999999; font-weight: bold } /* Name.Entity */\n",
       "body .ne { color: #D2413A; font-weight: bold } /* Name.Exception */\n",
       "body .nf { color: #0000FF } /* Name.Function */\n",
       "body .nl { color: #A0A000 } /* Name.Label */\n",
       "body .nn { color: #0000FF; font-weight: bold } /* Name.Namespace */\n",
       "body .nt { color: #008000; font-weight: bold } /* Name.Tag */\n",
       "body .nv { color: #19177C } /* Name.Variable */\n",
       "body .ow { color: #AA22FF; font-weight: bold } /* Operator.Word */\n",
       "body .w { color: #bbbbbb } /* Text.Whitespace */\n",
       "body .mb { color: #666666 } /* Literal.Number.Bin */\n",
       "body .mf { color: #666666 } /* Literal.Number.Float */\n",
       "body .mh { color: #666666 } /* Literal.Number.Hex */\n",
       "body .mi { color: #666666 } /* Literal.Number.Integer */\n",
       "body .mo { color: #666666 } /* Literal.Number.Oct */\n",
       "body .sa { color: #BA2121 } /* Literal.String.Affix */\n",
       "body .sb { color: #BA2121 } /* Literal.String.Backtick */\n",
       "body .sc { color: #BA2121 } /* Literal.String.Char */\n",
       "body .dl { color: #BA2121 } /* Literal.String.Delimiter */\n",
       "body .sd { color: #BA2121; font-style: italic } /* Literal.String.Doc */\n",
       "body .s2 { color: #BA2121 } /* Literal.String.Double */\n",
       "body .se { color: #BB6622; font-weight: bold } /* Literal.String.Escape */\n",
       "body .sh { color: #BA2121 } /* Literal.String.Heredoc */\n",
       "body .si { color: #BB6688; font-weight: bold } /* Literal.String.Interpol */\n",
       "body .sx { color: #008000 } /* Literal.String.Other */\n",
       "body .sr { color: #BB6688 } /* Literal.String.Regex */\n",
       "body .s1 { color: #BA2121 } /* Literal.String.Single */\n",
       "body .ss { color: #19177C } /* Literal.String.Symbol */\n",
       "body .bp { color: #008000 } /* Name.Builtin.Pseudo */\n",
       "body .fm { color: #0000FF } /* Name.Function.Magic */\n",
       "body .vc { color: #19177C } /* Name.Variable.Class */\n",
       "body .vg { color: #19177C } /* Name.Variable.Global */\n",
       "body .vi { color: #19177C } /* Name.Variable.Instance */\n",
       "body .vm { color: #19177C } /* Name.Variable.Magic */\n",
       "body .il { color: #666666 } /* Literal.Number.Integer.Long */\n",
       "\n",
       "  </style>\n",
       "</head>\n",
       "<body>\n",
       "<h2></h2>\n",
       "\n",
       "<div class=\"highlight\"><pre><span></span><span class=\"k\">class</span> <span class=\"nc\">Localizaciones</span> <span class=\"p\">():</span>\n",
       "\n",
       "    <span class=\"k\">def</span> <span class=\"fm\">__init__</span> <span class=\"p\">(</span><span class=\"bp\">self</span><span class=\"p\">,</span> <span class=\"n\">filename</span><span class=\"o\">=</span><span class=\"s1\">&#39;./data/grafo8cidades.txt&#39;</span><span class=\"p\">):</span>\n",
       "        <span class=\"bp\">self</span><span class=\"o\">.</span><span class=\"n\">filename</span> <span class=\"o\">=</span> <span class=\"n\">filename</span>\n",
       "        <span class=\"n\">file</span> <span class=\"o\">=</span> <span class=\"nb\">open</span><span class=\"p\">(</span><span class=\"n\">filename</span><span class=\"p\">,</span> <span class=\"s1\">&#39;r&#39;</span><span class=\"p\">)</span>\n",
       "        <span class=\"n\">Lines</span> <span class=\"o\">=</span> <span class=\"n\">file</span><span class=\"o\">.</span><span class=\"n\">readlines</span><span class=\"p\">()</span>\n",
       "\n",
       "        <span class=\"n\">count</span> <span class=\"o\">=</span> <span class=\"o\">-</span><span class=\"mi\">1</span>\n",
       "        <span class=\"bp\">self</span><span class=\"o\">.</span><span class=\"n\">nciudades</span> <span class=\"o\">=</span> <span class=\"mi\">0</span> \n",
       "        <span class=\"bp\">self</span><span class=\"o\">.</span><span class=\"n\">tablaciudades</span> <span class=\"o\">=</span> <span class=\"nb\">dict</span><span class=\"p\">()</span>\n",
       "        <span class=\"k\">for</span> <span class=\"n\">line</span> <span class=\"ow\">in</span> <span class=\"n\">Lines</span><span class=\"p\">:</span>\n",
       "            <span class=\"k\">if</span> <span class=\"n\">count</span> <span class=\"o\">==</span> <span class=\"o\">-</span><span class=\"mi\">1</span><span class=\"p\">:</span>\n",
       "                <span class=\"bp\">self</span><span class=\"o\">.</span><span class=\"n\">nciudades</span> <span class=\"o\">=</span> <span class=\"nb\">int</span><span class=\"p\">(</span><span class=\"n\">line</span><span class=\"o\">.</span><span class=\"n\">strip</span><span class=\"p\">()</span><span class=\"o\">.</span><span class=\"n\">split</span><span class=\"p\">()[</span><span class=\"mi\">0</span><span class=\"p\">])</span>        \n",
       "            <span class=\"k\">else</span><span class=\"p\">:</span>\n",
       "                <span class=\"n\">tokens</span> <span class=\"o\">=</span> <span class=\"n\">line</span><span class=\"o\">.</span><span class=\"n\">strip</span><span class=\"p\">()</span><span class=\"o\">.</span><span class=\"n\">split</span><span class=\"p\">()</span>\n",
       "                <span class=\"bp\">self</span><span class=\"o\">.</span><span class=\"n\">tablaciudades</span><span class=\"p\">[</span><span class=\"n\">count</span><span class=\"p\">]</span><span class=\"o\">=</span><span class=\"nb\">tuple</span><span class=\"p\">((</span><span class=\"nb\">float</span><span class=\"p\">(</span><span class=\"n\">tokens</span><span class=\"p\">[</span><span class=\"mi\">0</span><span class=\"p\">]),</span><span class=\"nb\">float</span><span class=\"p\">(</span><span class=\"n\">tokens</span><span class=\"p\">[</span><span class=\"mi\">1</span><span class=\"p\">])))</span>                \n",
       "\n",
       "            <span class=\"n\">count</span><span class=\"o\">+=</span><span class=\"mi\">1</span>\n",
       "    \n",
       "        <span class=\"bp\">self</span><span class=\"o\">.</span><span class=\"n\">matriz</span> <span class=\"o\">=</span> <span class=\"p\">[]</span>\n",
       "        <span class=\"k\">for</span> <span class=\"n\">c1</span> <span class=\"ow\">in</span> <span class=\"nb\">range</span><span class=\"p\">(</span><span class=\"bp\">self</span><span class=\"o\">.</span><span class=\"n\">nciudades</span><span class=\"p\">):</span>\n",
       "            <span class=\"n\">a</span> <span class=\"o\">=</span> <span class=\"p\">[</span><span class=\"mi\">0</span><span class=\"p\">]</span><span class=\"o\">*</span><span class=\"bp\">self</span><span class=\"o\">.</span><span class=\"n\">nciudades</span>\n",
       "            <span class=\"bp\">self</span><span class=\"o\">.</span><span class=\"n\">matriz</span><span class=\"o\">.</span><span class=\"n\">append</span><span class=\"p\">(</span><span class=\"n\">a</span><span class=\"p\">)</span>\n",
       "            <span class=\"k\">for</span> <span class=\"n\">c2</span> <span class=\"ow\">in</span> <span class=\"nb\">range</span><span class=\"p\">(</span><span class=\"bp\">self</span><span class=\"o\">.</span><span class=\"n\">nciudades</span><span class=\"p\">):</span>\n",
       "                <span class=\"bp\">self</span><span class=\"o\">.</span><span class=\"n\">matriz</span><span class=\"p\">[</span><span class=\"n\">c1</span><span class=\"p\">][</span><span class=\"n\">c2</span><span class=\"p\">]</span> <span class=\"o\">=</span> <span class=\"bp\">self</span><span class=\"o\">.</span><span class=\"n\">__distancia_semiverseno__</span><span class=\"p\">(</span><span class=\"n\">c1</span><span class=\"p\">,</span> <span class=\"n\">c2</span><span class=\"p\">)</span>\n",
       "    \n",
       "    <span class=\"k\">def</span> <span class=\"nf\">__distancia_semiverseno__</span> <span class=\"p\">(</span><span class=\"bp\">self</span><span class=\"p\">,</span> <span class=\"n\">c1</span><span class=\"p\">,</span> <span class=\"n\">c2</span><span class=\"p\">):</span>\n",
       "        <span class=\"n\">radioTierra</span> <span class=\"o\">=</span> <span class=\"mi\">6371</span>\n",
       "        <span class=\"n\">lat1</span> <span class=\"o\">=</span> <span class=\"n\">math</span><span class=\"o\">.</span><span class=\"n\">radians</span><span class=\"p\">(</span><span class=\"bp\">self</span><span class=\"o\">.</span><span class=\"n\">tablaciudades</span><span class=\"p\">[</span><span class=\"n\">c1</span><span class=\"p\">][</span><span class=\"mi\">0</span><span class=\"p\">]);</span>\n",
       "        <span class=\"n\">lon1</span> <span class=\"o\">=</span> <span class=\"n\">math</span><span class=\"o\">.</span><span class=\"n\">radians</span><span class=\"p\">(</span><span class=\"bp\">self</span><span class=\"o\">.</span><span class=\"n\">tablaciudades</span><span class=\"p\">[</span><span class=\"n\">c1</span><span class=\"p\">][</span><span class=\"mi\">1</span><span class=\"p\">]);</span>\n",
       "        <span class=\"n\">lat2</span> <span class=\"o\">=</span> <span class=\"n\">math</span><span class=\"o\">.</span><span class=\"n\">radians</span><span class=\"p\">(</span><span class=\"bp\">self</span><span class=\"o\">.</span><span class=\"n\">tablaciudades</span><span class=\"p\">[</span><span class=\"n\">c2</span><span class=\"p\">][</span><span class=\"mi\">0</span><span class=\"p\">]);</span>\n",
       "        <span class=\"n\">lon2</span> <span class=\"o\">=</span> <span class=\"n\">math</span><span class=\"o\">.</span><span class=\"n\">radians</span><span class=\"p\">(</span><span class=\"bp\">self</span><span class=\"o\">.</span><span class=\"n\">tablaciudades</span><span class=\"p\">[</span><span class=\"n\">c2</span><span class=\"p\">][</span><span class=\"mi\">1</span><span class=\"p\">]);</span>\n",
       "        \n",
       "        <span class=\"n\">sinChi</span> <span class=\"o\">=</span> <span class=\"n\">math</span><span class=\"o\">.</span><span class=\"n\">sin</span><span class=\"p\">((</span><span class=\"n\">lat2</span> <span class=\"o\">-</span> <span class=\"n\">lat1</span><span class=\"p\">)</span> <span class=\"o\">/</span> <span class=\"mi\">2</span><span class=\"p\">);</span>\n",
       "        <span class=\"n\">sinLambda</span> <span class=\"o\">=</span> <span class=\"n\">math</span><span class=\"o\">.</span><span class=\"n\">sin</span><span class=\"p\">((</span><span class=\"n\">lon2</span> <span class=\"o\">-</span> <span class=\"n\">lon1</span><span class=\"p\">)</span> <span class=\"o\">/</span> <span class=\"mi\">2</span><span class=\"p\">);</span>\n",
       "\n",
       "        <span class=\"n\">raiz</span> <span class=\"o\">=</span> <span class=\"p\">(</span><span class=\"n\">sinChi</span> <span class=\"o\">*</span> <span class=\"n\">sinChi</span><span class=\"p\">)</span> <span class=\"o\">+</span> <span class=\"n\">math</span><span class=\"o\">.</span><span class=\"n\">cos</span><span class=\"p\">(</span><span class=\"n\">lat1</span><span class=\"p\">)</span> <span class=\"o\">*</span> <span class=\"n\">math</span><span class=\"o\">.</span><span class=\"n\">cos</span><span class=\"p\">(</span><span class=\"n\">lat2</span><span class=\"p\">)</span> <span class=\"o\">*</span> <span class=\"p\">(</span><span class=\"n\">sinLambda</span> <span class=\"o\">*</span> <span class=\"n\">sinLambda</span><span class=\"p\">);</span>\n",
       "\n",
       "        <span class=\"k\">return</span> <span class=\"mi\">2</span> <span class=\"o\">*</span> <span class=\"n\">radioTierra</span> <span class=\"o\">*</span> <span class=\"n\">math</span><span class=\"o\">.</span><span class=\"n\">asin</span><span class=\"p\">(</span><span class=\"n\">math</span><span class=\"o\">.</span><span class=\"n\">sqrt</span><span class=\"p\">(</span><span class=\"n\">raiz</span><span class=\"p\">));</span>\n",
       "    \n",
       "    <span class=\"k\">def</span> <span class=\"nf\">distancia</span> <span class=\"p\">(</span><span class=\"bp\">self</span><span class=\"p\">,</span> <span class=\"n\">c1</span><span class=\"p\">,</span> <span class=\"n\">c2</span><span class=\"p\">):</span>        \n",
       "        <span class=\"k\">return</span> <span class=\"bp\">self</span><span class=\"o\">.</span><span class=\"n\">matriz</span> <span class=\"p\">[</span><span class=\"n\">c1</span><span class=\"p\">][</span><span class=\"n\">c2</span><span class=\"p\">]</span>\n",
       "</pre></div>\n",
       "</body>\n",
       "</html>\n"
      ],
      "text/plain": [
       "<IPython.core.display.HTML object>"
      ]
     },
     "metadata": {},
     "output_type": "display_data"
    }
   ],
   "source": [
    "psource (Localizaciones)"
   ]
  },
  {
   "cell_type": "markdown",
   "id": "87ee11d6",
   "metadata": {},
   "source": [
    "Fíjate que por defecto se carga el fichero `./data/grafo8cidades.txt`, que contiene las coordenadas GPS de 8 ciudades gallegas, siendo Santiago de Compostela la primera de ellas. La primera línea de estos ficheros indica el número de ciudades n, mientras que cada una de las líneas sucesivas especifican las coordenadas de cada ciudad, especificadas como coordenadas GPS (latitud y longitud en grados).\n",
    "\n",
    "Puedes cargar otro fichero haciendo uso del parámetro `filename` como se muestra a continuación. Si todo va bien, la primera distancia entre la ciudad 0 y 1 debe ser unos 55 km.\n",
    "\n",
    "❗ Para esta práctica, **debéis utilizar** el fichero `./data/grafo100cidades.txt` que contiene las coordenadas de 100 concellos gallegos."
   ]
  },
  {
   "cell_type": "code",
   "execution_count": 8,
   "id": "12ff980c",
   "metadata": {},
   "outputs": [
    {
     "name": "stdout",
     "output_type": "stream",
     "text": [
      "55.88273580792048\n",
      "119.30959564041359\n",
      "68.81748609463234\n"
     ]
    }
   ],
   "source": [
    "g1 = Localizaciones(filename='./data/grafo8cidades.txt')\n",
    "print(g1.distancia(0,1))\n",
    "g2 = Localizaciones(filename='./data/grafos10_10/grafo_1.txt')\n",
    "print(g2.distancia(0,1))\n",
    "g3 = Localizaciones(filename='./data/grafo100cidades.txt')\n",
    "print(g3.distancia(0,1))"
   ]
  },
  {
   "cell_type": "markdown",
   "id": "55ec6b36",
   "metadata": {},
   "source": [
    "Se define además, la función para visualizar las ciudades junto con el recorrido a realizar."
   ]
  },
  {
   "cell_type": "code",
   "execution_count": 9,
   "id": "d8144af1",
   "metadata": {},
   "outputs": [],
   "source": [
    "import matplotlib.pyplot as plt\n",
    "import matplotlib.patches as mpatches\n",
    "\n",
    "# Se define además una función que dibuja en un gráfico las ciudades y los caminos\n",
    "def visualizar(loc, sol, plt=plt):\n",
    "    for i in range(0, loc.nciudades):\n",
    "        ciudad = loc.tablaciudades[i][::-1]\n",
    "        plt.plot(ciudad[0], ciudad[1], \"or\")\n",
    "    for i in range(0, len(sol)-1):\n",
    "        c1 = loc.tablaciudades[sol[i]][::-1]\n",
    "        c2 = loc.tablaciudades[sol[i+1]][::-1]\n",
    "        plt.plot([c1[0], c2[0]], [c1[1], c2[1]], 'k-', lw=2)\n",
    "    try: plt.show()\n",
    "    except AttributeError: pass"
   ]
  },
  {
   "cell_type": "code",
   "execution_count": 10,
   "id": "47d2013c",
   "metadata": {},
   "outputs": [
    {
     "data": {
      "image/png": "[encoded data removed]",
      "text/plain": [
       "<Figure size 432x288 with 1 Axes>"
      ]
     },
     "metadata": {
      "needs_background": "light"
     },
     "output_type": "display_data"
    }
   ],
   "source": [
    "visualizar(g3, [])"
   ]
  },
  {
   "cell_type": "markdown",
   "id": "045122c3",
   "metadata": {},
   "source": [
    "\n",
    "## P2.1: Implementación básica de Búsqueda Tabú\n"
   ]
  },
  {
   "cell_type": "markdown",
   "id": "88a4e0a6",
   "metadata": {},
   "source": [
    "\n",
    "En este apartado debes desarrollar una versión básica del algoritmo de Búsqueda Tabú que resuelva el problema del viajante de comercio (TSP) aplicado a los concellos de Galicia. La especificación del algoritmo será muy detallada, ya que el objetivo principal de esta primera parte es que dispongas de una implementación totalmente funcional y verificada que resuelva el problema correctamente. Igual que en la P1, consideramos que el recorrido es circular (empieza y termina en el mismo concello) y que tienen que pasar por N=100 concellos de Galicia.\n",
    "\n",
    "Implementa el algoritmo básico de Búsqueda Tabú para resolver el problema del VC enunciado arriba. Para ello, revisa la descripción algorítmica de la MH vista en la clase expositiva (Véase el T1, diapositiva 49 y asociadas).\n",
    "\n",
    "Ten en cuenta las siguientes consideraciones de diseño para completar la implementación básica:\n",
    "- **Representación  de  las  soluciones:**  representación  de  orden  **(permutaciones)  comenzando y finalizando en la ciudad 0**. Es decir, utilizamos una representación de orden formada por una secuencia de valores numéricos que representan cada uno de los concellos {0, 1, ..., 99}. Consideramos siempre como punto de partida y retorno el concello 0, por lo que efectivamente una solución *S* se representa como una permutación de los demás valores {1, ..., 99}. \n",
    "\n",
    "\n",
    "- **Solución inicial:** generación **totalmente aleatoria** de una permutación válida como está explicado en los apartados previos.\n",
    "\n",
    "\n",
    "- **Operador  de  generación de vecindario de una solución** (generación de la solución  siguiente  Scand  a  partir  de  la  actual  Sact):  operador  de  intercambio. Con este operador, el número máximo de vecinos diferentes que se pued generar a partir de una solución dada es (todos los posibles intercambios) es:\n",
    "\n",
    "$$ \\sum_{i=1}^{L-1}i = \\frac{L(L-1)}{2} $$\n",
    "\n",
    "    donde L es la longitud de la solución.\n",
    "\n",
    "- **Función de coste:** suma de las distancias del camino según el orden del recorrido teniendo en cuenta que se parte de y se llega al concello 0.  La distancia se calcula teniendo en cuenta los siguientes tres elementos:\n",
    "    - Distancia desde el concello 0 al primer concello de la solución: 0 -> S[0]\n",
    "    - Distancia recorrida en la solución: S[0] -> S[1] -> ... -> S[-1]\n",
    "    - Distancia recorrida desde el concello final al concello 0: S[-1] ->0\n",
    "    \n",
    "\n",
    "- **Lista Tabú:** La lista tabú (LT) estará formada por los **movimientos de intercambio de índices** {i,j} que den lugar a las soluciones que forman la trayectoria de búsqueda. Tenéis que establecer **N=100** como parámetro de tenencia tabú, esto es, el tamaño de la lista tabú será de **N** elementos, de forma que un movimiento {i,j} saldrá de la lista tabú después de **N=100** operaciones y volverá a estar permitido.\n",
    "\n",
    "\n",
    "- **Reinicialización:** En el caso de que transcurran **100 iteraciones consecutivas** sin que mejore la solución $S_{opt}$ alcanzada hasta el momento, se hará una reinicialización desde $S_{opt}$. Se trata por tanto de una estrategia de reinicialización por **intensificación**. En el reinicio **no se restaura la lista tabú**, para dar opción a visitar vecinos no visitados anteriormente por estar determinados intercambios prohibidos. Es decir, cuando se hace un reinicio, se vuelve a la solución $S_{opt}$ y se vacía la lista tabú.\n",
    "\n",
    "\n",
    "- **Criterio de parada:** Se finaliza la ejecución cuando se alcanzan **10.000 iteraciones** del algoritmo.\n",
    "\n",
    "\n",
    "Para verificar tu implementación, **debes utilizar** el fichero de localizaciones de los 100 concellos gallegos **(*grafo100cidades.txt*).** Podéis utilizar como prueba para verificar que la implementaición es correcta inicialmente, el fichero de localizaciones de 8 ciudades gallegas (grafo8cidades.txt). La solución óptima resuelta con una búsqueda informada como A* se situa en torno a los 382km."
   ]
  },
  {
   "cell_type": "markdown",
   "id": "1962abc2",
   "metadata": {},
   "source": [
    "❓ **Pregunta 1**. Explica brevemente los detalles relevantes de tu código para entender tu implementación (p.ej., estructura de tu código, funciones, etc.)"
   ]
  },
  {
   "cell_type": "code",
   "execution_count": 11,
   "id": "56a029dc",
   "metadata": {},
   "outputs": [],
   "source": [
    "# REPRESENTACIÓN DE LAS SOLUCIONES\n",
    "# En este diseño, a pesar de que siempre se empieza en la ciudad 0 y se acaba en la ciudad 0, se\n",
    "# procede a almacenar todo el orden de las ciudades, incluyendo las iniciales y las finales, para\n",
    "# facilitar ciertas funciones como coste.\n",
    "# [0, 1, 2, 3, 4, 5, 6, 7, 0]"
   ]
  },
  {
   "cell_type": "code",
   "execution_count": 12,
   "id": "f8d25215",
   "metadata": {},
   "outputs": [],
   "source": [
    "# FUNCIÓN DE COSTE\n",
    "def coste(g, sol):\n",
    "    s = 0\n",
    "    for i in range(0, len(sol)-1):\n",
    "        s += g.distancia(sol[i], sol[i+1])\n",
    "    return s\n",
    "\n",
    "# Se define además una función de coste de un vecino\n",
    "# dado. Esto facilita el cálculo del coste de los\n",
    "# vecinos, ya que en vez de realizar nciudades sumas,\n",
    "# se realizan sólo 6 (los segmentos que cambian).\n",
    "# Se permite pasar un extra para futuras modificaciones.\n",
    "def coste_vecino(g, s_act, s_vec, c_act, mov, extra=0.0):\n",
    "    segmentos = []\n",
    "    # Primero se mira que segmentos han cambiado\n",
    "    for m in mov:\n",
    "        segmentos.append((m-1, m))\n",
    "        segmentos.append((m, m+1))\n",
    "    \n",
    "    c = c_act\n",
    "    # Y a continuación se restan los segmentos\n",
    "    # de la solución original y se suman los del\n",
    "    # vecino\n",
    "    for segmento in segmentos:\n",
    "        i, j = segmento\n",
    "        c -= g.distancia(s_act[i], s_act[j])\n",
    "        c += g.distancia(s_vec[i], s_vec[j])\n",
    "\n",
    "    return c + extra"
   ]
  },
  {
   "cell_type": "code",
   "execution_count": 13,
   "id": "9453775d",
   "metadata": {},
   "outputs": [],
   "source": [
    "# SOLUCIÓN INICIAL\n",
    "def genera_solucion_inicial(g):\n",
    "    sol = [x for x in range(1, g.nciudades)]\n",
    "    random.shuffle(sol)\n",
    "    return [0] + sol + [0]"
   ]
  },
  {
   "cell_type": "code",
   "execution_count": 14,
   "id": "141a8ace",
   "metadata": {},
   "outputs": [],
   "source": [
    "# VECINOS PERMITIDOS\n",
    "def genera_vecinos(g, sact, tabu):\n",
    "    # Se permiten todos los movimientos tal\n",
    "    # que i sea mayor que  (ya que puede ser\n",
    "    # simétrico)\n",
    "    movs = []\n",
    "    for i in range(1, g.nciudades):\n",
    "        for j in range(i+1, g.nciudades):\n",
    "            mov = (i, j)\n",
    "            # Excepto los que son tabú\n",
    "            if mov in tabu:\n",
    "                continue\n",
    "            movs.append(mov)\n",
    "\n",
    "    vecinos = {}\n",
    "    # Para cada movimiento permitido, se\n",
    "    # genera el vecino correspondiente metíendolos\n",
    "    # en un diccionario donde la clave es el\n",
    "    # movimiento realizado\n",
    "    for mov in movs:\n",
    "        scand = sact.copy()\n",
    "        i, j = mov\n",
    "        scand[i], scand[j] = sact[j], sact[i]\n",
    "        vecinos[mov] = scand\n",
    "    return vecinos"
   ]
  },
  {
   "cell_type": "code",
   "execution_count": 15,
   "id": "a85210e0",
   "metadata": {},
   "outputs": [],
   "source": [
    "# CONDICIÓN DE PARADA\n",
    "DEFAULT_LIMITE = 10000\n",
    "\n",
    "# TAMAÑO TABÚ\n",
    "N = 100\n",
    "\n",
    "# REINICIALIZACIÓN\n",
    "R = 100"
   ]
  },
  {
   "cell_type": "code",
   "execution_count": 16,
   "id": "f3bac76c",
   "metadata": {},
   "outputs": [],
   "source": [
    "# BUSQUEDA TABÚ\n",
    "from tqdm.notebook import tqdm\n",
    "\n",
    "def busqueda_tabu(g, limite=DEFAULT_LIMITE, incluir_iteracion=False):\n",
    "    # Se genera la solución inicial, la cual será la actual y la óptima inicialmente\n",
    "    sol_inicial = genera_solucion_inicial(g)\n",
    "    s_act, c_act = sol_inicial, coste(g, sol_inicial)\n",
    "    iteracion = 0\n",
    "    s_opt, c_opt = s_act, c_act\n",
    "    \n",
    "    # Se inicializa la lista de elementos tabú, y el contador para\n",
    "    # su reinicialización\n",
    "    tabu = []\n",
    "    r = 0\n",
    "    for i in tqdm(range(0, limite), leave=None):\n",
    "        # Para la solución actual, se generan todos los vecinos posibles\n",
    "        vecinos = genera_vecinos(g, s_act, tabu)\n",
    "        # Y de todos los vecinos, se busca el que tenga un mejor coste\n",
    "        mejor_mov, c_mejor_vecino, s_mejor_vecino = None, None, None\n",
    "        for mov in vecinos.keys():\n",
    "            vecino = vecinos[mov]\n",
    "            # Para calcular el coste del vecino, no se usa la función\n",
    "            # estándar de\n",
    "            # c_vecino = coste(g, vecino)\n",
    "            # ya que supone un tiempo de ejecución muy elevado. Se utiliza\n",
    "            # la definida para ello a partir de la solución actual.\n",
    "            c_vecino = coste_vecino(g, s_act, vecino, c_act, mov)\n",
    "            if mejor_mov is None or c_vecino < c_mejor_vecino:\n",
    "                mejor_mov = mov\n",
    "                c_mejor_vecino = c_vecino\n",
    "                s_mejor_vecino = vecino\n",
    "        \n",
    "        # La solución actual pasa a ser el mejor vecino y, además, el\n",
    "        # movimiento que genere a este vecino entrará en la lista\n",
    "        # tabú\n",
    "        s_act, c_act = s_mejor_vecino, c_mejor_vecino\n",
    "        if len(tabu) == N:\n",
    "            # Si la lista tiene el límite de elementos, se elimina el\n",
    "            # primero de ellos.\n",
    "            tabu.pop(0)\n",
    "        tabu.append(mejor_mov)\n",
    "        \n",
    "        # Si el coste de la solución actual es menor que el de la óptima,\n",
    "        # esta solución actual pasa a ser la óptima, y se reinicia el\n",
    "        # contador de reinicialización\n",
    "        if c_act < c_opt:\n",
    "            iteracion = i\n",
    "            s_opt, c_opt = s_act, c_act\n",
    "            r = 0\n",
    "        else:\n",
    "            r += 1\n",
    "        \n",
    "        # En caso de que el contador de reinicialización llegue al tope,\n",
    "        # se reinicializa la lista tabú y se vuelve a la solución óptima\n",
    "        if r == R:\n",
    "            r = 0\n",
    "            tabu = []\n",
    "    \n",
    "    return s_opt if not incluir_iteracion else (s_opt, iteracion)"
   ]
  },
  {
   "cell_type": "code",
   "execution_count": 17,
   "id": "2fdff97c",
   "metadata": {},
   "outputs": [
    {
     "data": {
      "application/vnd.jupyter.widget-view+json": {
       "model_id": "",
       "version_major": 2,
       "version_minor": 0
      },
      "text/plain": [
       "  0%|          | 0/1000 [00:00<?, ?it/s]"
      ]
     },
     "metadata": {},
     "output_type": "display_data"
    },
    {
     "name": "stdout",
     "output_type": "stream",
     "text": [
      "1948.0143797964515\n"
     ]
    },
    {
     "data": {
      "image/png": "[encoded data removed]",
      "text/plain": [
       "<Figure size 432x288 with 1 Axes>"
      ]
     },
     "metadata": {
      "needs_background": "light"
     },
     "output_type": "display_data"
    }
   ],
   "source": [
    "sol = busqueda_tabu(g3, limite=1000)\n",
    "print(coste(g3, sol))\n",
    "visualizar(g3, sol)"
   ]
  },
  {
   "cell_type": "markdown",
   "id": "d2ae5035",
   "metadata": {},
   "source": [
    "❓ **Pregunta 2**. La parte experimental de la práctica consiste en realizar **10 ejecuciones diferentes** de la implementación realizada y reportar la media y desviación estándar de la mejor solución obtenida, el número de iteración en el que se alcanzó y el tiempo de ejecución del algoritmo"
   ]
  },
  {
   "cell_type": "code",
   "execution_count": 18,
   "id": "31f850d6",
   "metadata": {},
   "outputs": [],
   "source": [
    "from tqdm.notebook import trange\n",
    "from statistics import mean, stdev\n",
    "\n",
    "def prueba(g, pruebas=10, limite=DEFAULT_LIMITE):\n",
    "    resultados = []\n",
    "    for i in tqdm(range(0, pruebas), desc='Pruebas', leave=None):\n",
    "        start = time.time()\n",
    "        sol, iteracion = busqueda_tabu(g, limite=limite, incluir_iteracion=True)\n",
    "        end = time.time() - start\n",
    "        c = coste(g, sol)\n",
    "        resultados.append((sol, iteracion, c, end))\n",
    "\n",
    "    mejor_solucion = None\n",
    "    for r in resultados:\n",
    "        if mejor_solucion is None or c < mejor_solucion[2]:\n",
    "            mejor_solucion = r\n",
    "    \n",
    "    print(\"MEJOR SOLUCION: %f (I=%d, T=%f)\" % (mejor_solucion[2], mejor_solucion[1], mejor_solucion[3]))\n",
    "    visualizar(g, mejor_solucion[0])\n",
    "    \n",
    "    if pruebas > 1:\n",
    "        print(\"MEDIA: %f\" % mean(map(lambda r: r[2], resultados)))\n",
    "        print(\"DESVIACIÓN ESTANDAR: %f\" % stdev(map(lambda r: r[2], resultados), xbar=mejor_solucion[2]))"
   ]
  },
  {
   "cell_type": "code",
   "execution_count": 19,
   "id": "3e1dd78e",
   "metadata": {
    "scrolled": false
   },
   "outputs": [
    {
     "data": {
      "application/vnd.jupyter.widget-view+json": {
       "model_id": "",
       "version_major": 2,
       "version_minor": 0
      },
      "text/plain": [
       "Pruebas:   0%|          | 0/10 [00:00<?, ?it/s]"
      ]
     },
     "metadata": {},
     "output_type": "display_data"
    },
    {
     "data": {
      "application/vnd.jupyter.widget-view+json": {
       "model_id": "",
       "version_major": 2,
       "version_minor": 0
      },
      "text/plain": [
       "  0%|          | 0/10000 [00:00<?, ?it/s]"
      ]
     },
     "metadata": {},
     "output_type": "display_data"
    },
    {
     "data": {
      "application/vnd.jupyter.widget-view+json": {
       "model_id": "",
       "version_major": 2,
       "version_minor": 0
      },
      "text/plain": [
       "  0%|          | 0/10000 [00:00<?, ?it/s]"
      ]
     },
     "metadata": {},
     "output_type": "display_data"
    },
    {
     "data": {
      "application/vnd.jupyter.widget-view+json": {
       "model_id": "",
       "version_major": 2,
       "version_minor": 0
      },
      "text/plain": [
       "  0%|          | 0/10000 [00:00<?, ?it/s]"
      ]
     },
     "metadata": {},
     "output_type": "display_data"
    },
    {
     "data": {
      "application/vnd.jupyter.widget-view+json": {
       "model_id": "",
       "version_major": 2,
       "version_minor": 0
      },
      "text/plain": [
       "  0%|          | 0/10000 [00:00<?, ?it/s]"
      ]
     },
     "metadata": {},
     "output_type": "display_data"
    },
    {
     "data": {
      "application/vnd.jupyter.widget-view+json": {
       "model_id": "",
       "version_major": 2,
       "version_minor": 0
      },
      "text/plain": [
       "  0%|          | 0/10000 [00:00<?, ?it/s]"
      ]
     },
     "metadata": {},
     "output_type": "display_data"
    },
    {
     "data": {
      "application/vnd.jupyter.widget-view+json": {
       "model_id": "",
       "version_major": 2,
       "version_minor": 0
      },
      "text/plain": [
       "  0%|          | 0/10000 [00:00<?, ?it/s]"
      ]
     },
     "metadata": {},
     "output_type": "display_data"
    },
    {
     "data": {
      "application/vnd.jupyter.widget-view+json": {
       "model_id": "",
       "version_major": 2,
       "version_minor": 0
      },
      "text/plain": [
       "  0%|          | 0/10000 [00:00<?, ?it/s]"
      ]
     },
     "metadata": {},
     "output_type": "display_data"
    },
    {
     "data": {
      "application/vnd.jupyter.widget-view+json": {
       "model_id": "",
       "version_major": 2,
       "version_minor": 0
      },
      "text/plain": [
       "  0%|          | 0/10000 [00:00<?, ?it/s]"
      ]
     },
     "metadata": {},
     "output_type": "display_data"
    },
    {
     "data": {
      "application/vnd.jupyter.widget-view+json": {
       "model_id": "",
       "version_major": 2,
       "version_minor": 0
      },
      "text/plain": [
       "  0%|          | 0/10000 [00:00<?, ?it/s]"
      ]
     },
     "metadata": {},
     "output_type": "display_data"
    },
    {
     "data": {
      "application/vnd.jupyter.widget-view+json": {
       "model_id": "",
       "version_major": 2,
       "version_minor": 0
      },
      "text/plain": [
       "  0%|          | 0/10000 [00:00<?, ?it/s]"
      ]
     },
     "metadata": {},
     "output_type": "display_data"
    },
    {
     "name": "stdout",
     "output_type": "stream",
     "text": [
      "MEJOR SOLUCION: 1601.645533 (I=7889, T=419.630691)\n"
     ]
    },
    {
     "data": {
      "image/png": "[encoded data removed]",
      "text/plain": [
       "<Figure size 432x288 with 1 Axes>"
      ]
     },
     "metadata": {
      "needs_background": "light"
     },
     "output_type": "display_data"
    },
    {
     "name": "stdout",
     "output_type": "stream",
     "text": [
      "MEDIA: 1648.741190\n",
      "DESVIACIÓN ESTANDAR: 112.395935\n"
     ]
    }
   ],
   "source": [
    "prueba(g3)"
   ]
  },
  {
   "cell_type": "markdown",
   "id": "f9c05313",
   "metadata": {},
   "source": [
    "NOTA: sé conservador en tu estrategia para verificar tu implementación, especialmente cuando empleas ficheros de datos grandes como el del problema de las ciudades USA. Si dejas ejecutando tu algoritmo por un número elevado de iteraciones, puede resultarte útil medir el tiempo que tarda para tomar decisiones sobre donde establecer el límite. "
   ]
  },
  {
   "cell_type": "markdown",
   "id": "ac8d9805",
   "metadata": {},
   "source": [
    " \n",
    "## P2.2: Mejoras del algoritmo de Búsqueda Tabú (No obligatorio)\n",
    "En este apartado el objetivo es aplicar la resolución del problema que acabáis de programar a un nuevo conjunto de 120 localiszaciones tomadas del archivo de [50.000 lugares históricos del Registro Nacional de los EE.UU](http://www.math.uwaterloo.ca/tsp/us/data.html), tal y como se describe en la web del [Traveller Salesman Problem (TSP)](http://www.math.uwaterloo.ca/tsp/) del [Department of Combinatorics and Optimization](https://uwaterloo.ca/combinatorics-and-optimization/) de la University of Waterloo CA [(Prof. William Cook)](http://www.math.uwaterloo.ca/~bico/).\n",
    "Para evitar problemas de tiempo excesivo de cómputo, reduciremos el problema a 120 localizaciones que se indican en el fichero **US120.txt**.\n",
    "\n",
    "NOTA: Si alguno de vosotros quiere realizar pruebas con todos los lugares indicados, puede obtener el fichero de texto original en el [siguiente enlace](http://www.math.uwaterloo.ca/tsp/us/files/us50000_latlong.txt).\n",
    "\n",
    "\n",
    "En esta sección el objetivo es realizar mejoras al algoritmo desarrollado previamente, de acuerdo a lo visto en las clases expositivas. Podrá modificarse cualquier parámetro u operador, como por ejemplo:\n",
    "- **Generación de la solución inicial** (inicialización greedy, ...)\n",
    "- **Gestión de la lista tabú** con la inclusión de algún criterio de aspiración (por ejemplo excluir de la lista una solución si mejora a la mejor solución hasta el momento)\n",
    "- El **operador de generación de vecinos** (por ejemplo no considerar todos los pares de índices, cambiar el operador de generación, ...)\n",
    "- Utilizar **otras estrategias de reinicialización** por intensificación (por ejemplo reiniciar desde una solución aleatoria de un conjunto de las N mejores soluciones hasta ahora, restaurar la lista tabú, ...).\n",
    "- Cambiar la **estrategia de reinicialización para dar diversificación** con una estrategia de **memoria a largo plazo**. Como puede ser utilizar una matriz simétriza *frec* que almacene elnúmero de veces que cada par de ciudades han sido consecutivas en las soluciones aceptadas hasta el momento. Con esta matriz de frecuencias se podría realizar una inicialización voraz sobre una matriz de distancias modificada que incluya las frecuencias almacenadas en memoria y penalice los pares de ciudads con mayor frecuencia, incrementando ficticiamente su distancia:\n",
    "\n",
    "$$ D(i,j)_{MOD} = D(i,j) + \\mu (D_{MAX} - D_{min}) \\frac{frec(i,j)}{frec_{MAX}} $$\n",
    "\n",
    "- Utilizar un criterio de **oscilación estratégica** que alterne entre las estrategias de intensificación y diversificación**-"
   ]
  },
  {
   "cell_type": "markdown",
   "id": "0c0ccfd8",
   "metadata": {},
   "source": [
    "❓ **Pregunta 3**. ¿Qué intervenciones de mejora te ha llevado a mejores resultados? Explica brevemente las mejoras o intervenciones de mejora realizadas, cómo la has implementado, porqué las consideras buenas para el problema y presenta tus conclusiones acompañadas de los resultados obtenidos.\n"
   ]
  },
  {
   "cell_type": "code",
   "execution_count": 20,
   "id": "1de36cd5",
   "metadata": {},
   "outputs": [
    {
     "data": {
      "application/vnd.jupyter.widget-view+json": {
       "model_id": "",
       "version_major": 2,
       "version_minor": 0
      },
      "text/plain": [
       "Pruebas:   0%|          | 0/1 [00:00<?, ?it/s]"
      ]
     },
     "metadata": {},
     "output_type": "display_data"
    },
    {
     "data": {
      "application/vnd.jupyter.widget-view+json": {
       "model_id": "",
       "version_major": 2,
       "version_minor": 0
      },
      "text/plain": [
       "  0%|          | 0/10000 [00:00<?, ?it/s]"
      ]
     },
     "metadata": {},
     "output_type": "display_data"
    },
    {
     "name": "stdout",
     "output_type": "stream",
     "text": [
      "MEJOR SOLUCION: 1632.382514 (I=3004, T=470.959916)\n"
     ]
    },
    {
     "data": {
      "image/png": "[encoded data removed]",
      "text/plain": [
       "<Figure size 432x288 with 1 Axes>"
      ]
     },
     "metadata": {
      "needs_background": "light"
     },
     "output_type": "display_data"
    }
   ],
   "source": [
    "# SOLUCIÓN INICIAL\n",
    "# Se prueba ahora a partir de la mejor solución posible por búsqueda\n",
    "# local.\n",
    "\n",
    "genera_solucion_inicial_legacy = genera_solucion_inicial\n",
    "\n",
    "def genera_solucion_inicial_mejorada(g):\n",
    "    sol = [0]\n",
    "    for i in range(1, g.nciudades):\n",
    "        mejor_punto, mejor_coste = None, None\n",
    "        for i in range(1, g.nciudades):\n",
    "            if i in sol:\n",
    "                continue\n",
    "            c = g.distancia(sol[len(sol) - 1], i)\n",
    "            if not mejor_punto or c < mejor_coste:\n",
    "                mejor_punto, mejor_coste = i, c\n",
    "        sol.append(mejor_punto)\n",
    "    return sol + [0]\n",
    "\n",
    "genera_solucion_inicial = genera_solucion_inicial_mejorada\n",
    "prueba(g3, pruebas=1)\n",
    "\n",
    "genera_solucion_inicial = genera_solucion_inicial_legacy"
   ]
  },
  {
   "cell_type": "code",
   "execution_count": 21,
   "id": "127bf289",
   "metadata": {},
   "outputs": [
    {
     "data": {
      "application/vnd.jupyter.widget-view+json": {
       "model_id": "",
       "version_major": 2,
       "version_minor": 0
      },
      "text/plain": [
       "Pruebas:   0%|          | 0/1 [00:00<?, ?it/s]"
      ]
     },
     "metadata": {},
     "output_type": "display_data"
    },
    {
     "data": {
      "application/vnd.jupyter.widget-view+json": {
       "model_id": "",
       "version_major": 2,
       "version_minor": 0
      },
      "text/plain": [
       "  0%|          | 0/10000 [00:00<?, ?it/s]"
      ]
     },
     "metadata": {},
     "output_type": "display_data"
    },
    {
     "name": "stdout",
     "output_type": "stream",
     "text": [
      "MEJOR SOLUCION: 1638.213527 (I=9921, T=667.544638)\n"
     ]
    },
    {
     "data": {
      "image/png": "[encoded data removed]",
      "text/plain": [
       "<Figure size 432x288 with 1 Axes>"
      ]
     },
     "metadata": {
      "needs_background": "light"
     },
     "output_type": "display_data"
    }
   ],
   "source": [
    "# ESTRATEGIA DE DIVERSIFICACIÓN\n",
    "# Se define una matriz de frecuencias donde se almacena la cantidad de veces\n",
    "# que se visita un par de ciudades. Esta frecuencia será un aditivo a la\n",
    "# distancia entre ambas para tratar de buscar alternativas.\n",
    "\n",
    "busqueda_tabu_legacy = busqueda_tabu\n",
    "\n",
    "def busqueda_tabu_mejorada(g, limite=DEFAULT_LIMITE, incluir_iteracion=False):\n",
    "    sol_inicial = genera_solucion_inicial(g)\n",
    "    s_act, c_act = sol_inicial, coste(g, sol_inicial)\n",
    "    iteracion = 0\n",
    "    s_opt, c_opt = s_act, c_act\n",
    "    \n",
    "    d_max, d_min = None, None\n",
    "    for i in range(0, g.nciudades):\n",
    "        for j in range(i+1, g.nciudades):\n",
    "            if d_max is None or d_max < g.distancia(i, j):\n",
    "                d_max = g.distancia(i, j)\n",
    "            if d_min is None or d_min > g.distancia(i, j):\n",
    "                d_min = g.distancia(i, j)\n",
    "    d_diff = d_max - d_min\n",
    "\n",
    "    tabu = []\n",
    "    frec, max_frec = [[0] * g.nciudades] * g.nciudades, 0\n",
    "    for i in tqdm(range(0, limite), leave=None):\n",
    "        vecinos = genera_vecinos(g, s_act, tabu)\n",
    "        mejor_mov, c_mejor_vecino, s_mejor_vecino = None, None, None\n",
    "        for mov in vecinos.keys():\n",
    "            j, k = mov\n",
    "            vecino = vecinos[mov]\n",
    "            # Se calcula un aditivo extra a la distancia en función de las\n",
    "            # veces en las que se ha visitado ese par de ciudades\n",
    "            extra = 0 if max_frec == 0 else (d_diff * (frec[j][k] / max_frec))\n",
    "            # Se calcula el coste del vecino\n",
    "            c_vecino = coste_vecino(g, s_act, vecino, c_act, mov, extra)\n",
    "            if mejor_mov is None or c_vecino < c_mejor_vecino:\n",
    "                mejor_mov = mov\n",
    "                c_mejor_vecino = c_vecino\n",
    "                s_mejor_vecino = vecino\n",
    "   \n",
    "        # El movimiento se almacena en la tabla de frecuencias\n",
    "        j, k = mejor_mov\n",
    "        frec[j][k] += 1\n",
    "        if frec[j][k] > max_frec:\n",
    "            max_frec = frec[j][k]\n",
    "\n",
    "        s_act, c_act = s_mejor_vecino, coste(g, s_mejor_vecino)\n",
    "        if len(tabu) == N:\n",
    "            tabu.pop(0)\n",
    "        tabu.append(mejor_mov)\n",
    "\n",
    "        if c_act < c_opt:\n",
    "            iteracion = i\n",
    "            s_opt, c_opt = s_act, c_act\n",
    "    \n",
    "    return s_opt if not incluir_iteracion else (s_opt, iteracion)\n",
    "\n",
    "busqueda_tabu = busqueda_tabu_mejorada\n",
    "prueba(g3, pruebas=1)\n",
    "\n",
    "busqueda_tabu = busqueda_tabu_legacy"
   ]
  },
  {
   "cell_type": "code",
   "execution_count": 22,
   "id": "acdef826",
   "metadata": {},
   "outputs": [
    {
     "data": {
      "application/vnd.jupyter.widget-view+json": {
       "model_id": "",
       "version_major": 2,
       "version_minor": 0
      },
      "text/plain": [
       "Pruebas:   0%|          | 0/1 [00:00<?, ?it/s]"
      ]
     },
     "metadata": {},
     "output_type": "display_data"
    },
    {
     "data": {
      "application/vnd.jupyter.widget-view+json": {
       "model_id": "",
       "version_major": 2,
       "version_minor": 0
      },
      "text/plain": [
       "  0%|          | 0/10000 [00:00<?, ?it/s]"
      ]
     },
     "metadata": {},
     "output_type": "display_data"
    },
    {
     "name": "stdout",
     "output_type": "stream",
     "text": [
      "MEJOR SOLUCION: 1596.896583 (I=7162, T=506.638231)\n"
     ]
    },
    {
     "data": {
      "image/png": "[encoded data removed]",
      "text/plain": [
       "<Figure size 432x288 with 1 Axes>"
      ]
     },
     "metadata": {
      "needs_background": "light"
     },
     "output_type": "display_data"
    }
   ],
   "source": [
    "genera_solucion_inicial = genera_solucion_inicial_mejorada\n",
    "busqueda_tabu = busqueda_tabu_mejorada\n",
    "\n",
    "prueba(g3, pruebas=1)\n",
    "\n",
    "busqueda_tabu = busqueda_tabu_legacy\n",
    "genera_solucion_inicial = genera_solucion_inicial_legacy"
   ]
  },
  {
   "cell_type": "markdown",
   "id": "82f11936",
   "metadata": {},
   "source": [
    "---\n",
    "\n",
    "# Respuestas a las preguntas\n",
    "\n",
    "Recordatorio: No olvides escribir tu nombre y apellidos en la segunda celda de este documento.\n",
    "La respuestas a las preguntas deben venir acompañadas de las implementaciones necesarias para su respuesta.\n",
    "\n",
    "### P1.1 Especificación obligatoria\n",
    "\n",
    "Esta primera parte se evalúa con 6 puntos. Para ello, es necesaria **realizar la implementación del algoritmo** y **responder a las preguntas 1 y 2** respetivamente. El conjunto de la implementación y las dos preguntas es lo que se evaluará en esta primera parte.\n",
    "\n",
    "❓ **Pregunta 1** Explica brevemente los detalles relevantes de tu código para entender tu implementación (p.ej., estructura de tu código, funciones, etc.)\n",
    "\n",
    "*Incluye todas las celdas que consideres oportunas para que sea legible y fácil de seguir.*"
   ]
  },
  {
   "cell_type": "markdown",
   "id": "fef62801",
   "metadata": {},
   "source": [
    "**💬 Respuesta.** Está toda la implementación programada en el código en las celdas superiores. Cada celda tiene una función del algoritmo debidamente comentada y explicada."
   ]
  },
  {
   "cell_type": "markdown",
   "id": "214a8163",
   "metadata": {},
   "source": [
    "❓ **Pregunta 2.** La parte experimental de la práctica consiste en realizar 10 ejecuciones diferentes de la implementación realizada y reportar la media y desviación estándar de la mejor solución obtenida, el número de iteración en el que se alcanzó y el tiempo de ejecución del algoritmo\n",
    "\n",
    "*Incluye todas las celdas que consideres oportunas para que sea legible y fácil de seguir.*\n"
   ]
  },
  {
   "cell_type": "markdown",
   "id": "d20b9669",
   "metadata": {},
   "source": [
    "**💬 Respuesta.** Se ha realizado las 10 pruebas con las 10.000 iteraciones. El resultado ha sido que la mejor solución está en torno a 1601, y se ha alcanzado en la iteración 7889 con un tiempo de casi 7 minutos.  \n",
    "La media está en 1648, y la desviación estándar de 112.\n",
    "\n",
    "Se puede ver en el grafo como son unos caminos \"más o menos lógicos\" en el sentido de que se visitan ciudades cercanas."
   ]
  },
  {
   "cell_type": "markdown",
   "id": "fc1d87f6",
   "metadata": {},
   "source": [
    "### Especificación optativa (mejoras)\n",
    "\n",
    "Esta segunda parte es optativa y se evaluará sobre 4 puntos. Para ello es necesario que realicéis la implementación de las mejoras, mostréis el código en el que han sido implementadas y comentéis el porqué de estas mejoras y los resultados obtenidos.\n",
    "\n",
    "❓ **Pregunta 3.** ¿Qué intervenciones de mejora te ha llevado a mejores resultados? Explica brevemente las mejoras o intervenciones de mejora realizadas, cómo la has implementado, porqué las consideras buenas para el problema y presenta tus conclusiones acompañadas de los resultados obtenidos.\n",
    "\n",
    "*Incluye todas las celdas que consideres oportunas para que sea legible y fácil de seguir.*"
   ]
  },
  {
   "cell_type": "markdown",
   "id": "d42cf26a",
   "metadata": {},
   "source": [
    "**💬 Respuesta.** Se han hecho dos modificaciones: una solución inicial greedy, y una diversificación en la estrategia de búsqueda.\n",
    "\n",
    "La primera de ellas, la inicialización de una solución greedy, se puede ver a simple vista como la distancia de una solución óptima se reduce entorno a 300 unidades. Además, en la representación, se puede ver también como se sigue un path hacia las ciudades más próximas no visitadas anteriormente.\n",
    "\n",
    "En cuanto a la segunda, se introduce una matriz de frecuencias y las distancias de los vecinos se da un aditivo para evitar visitar las mismas todo el rato. Primero de todo, se aprecia como el algoritmo es más lento que la implementación de reinicialización. En cuanto al resultado, también se ve como se mejora entorno a 300, pero con la diferencia de que la solución óptima se aprecia en casi la última iteración, lo cual indica que el algoritmo si se metiesen más iteraciones es posible que encontrase otro path mejor."
   ]
  }
 ],
 "metadata": {
  "kernelspec": {
   "display_name": "Python 3 (ipykernel)",
   "language": "python",
   "name": "python3"
  },
  "language_info": {
   "codemirror_mode": {
    "name": "ipython",
    "version": 3
   },
   "file_extension": ".py",
   "mimetype": "text/x-python",
   "name": "python",
   "nbconvert_exporter": "python",
   "pygments_lexer": "ipython3",
   "version": "3.9.7"
  }
 },
 "nbformat": 4,
 "nbformat_minor": 5
}
